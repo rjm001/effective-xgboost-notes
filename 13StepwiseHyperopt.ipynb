{
 "cells": [
  {
   "cell_type": "code",
   "execution_count": 2,
   "metadata": {},
   "outputs": [
    {
     "name": "stderr",
     "output_type": "stream",
     "text": [
      "/media/ryan/5e52f95b-dbda-4605-bec6-10d513d58772/GitHubProjExt/effective-xgboost-notes/setup.py:32: DtypeWarning: Columns (0,2,8,10,21,23,24,25,26,27,28,42,44,54,56,64,81,83,85,87,105,107,109,121,123,125,148,150,157,172,174,192,194,210,218,219,221,223,246,247,249,262,264,276,277,278,279,280,281,282,283,284,285,286,287,288,289,290,302,304,306,325,326,329,341,368,371,384,385,389,390,391,393,394) have mixed types. Specify dtype option on import or set low_memory=False.\n",
      "/media/ryan/5e52f95b-dbda-4605-bec6-10d513d58772/GitHubProjExt/effective-xgboost-notes/setup.py:49: FutureWarning: Downcasting behavior in `replace` is deprecated and will be removed in a future version. To retain the old behavior, explicitly call `result.infer_objects(copy=False)`. To opt-in to the future behavior, set `pd.set_option('future.no_silent_downcasting', True)`\n",
      "/media/ryan/5e52f95b-dbda-4605-bec6-10d513d58772/GitHubProjExt/effective-xgboost-notes/setup.py:78: FutureWarning: Downcasting behavior in `replace` is deprecated and will be removed in a future version. To retain the old behavior, explicitly call `result.infer_objects(copy=False)`. To opt-in to the future behavior, set `pd.set_option('future.no_silent_downcasting', True)`\n",
      "/media/ryan/5e52f95b-dbda-4605-bec6-10d513d58772/GitHubProjExt/effective-xgboost-notes/setup.py:79: FutureWarning: Downcasting behavior in `replace` is deprecated and will be removed in a future version. To retain the old behavior, explicitly call `result.infer_objects(copy=False)`. To opt-in to the future behavior, set `pd.set_option('future.no_silent_downcasting', True)`\n",
      "/media/ryan/5e52f95b-dbda-4605-bec6-10d513d58772/GitHubProjExt/effective-xgboost-notes/setup.py:80: FutureWarning: Downcasting behavior in `replace` is deprecated and will be removed in a future version. To retain the old behavior, explicitly call `result.infer_objects(copy=False)`. To opt-in to the future behavior, set `pd.set_option('future.no_silent_downcasting', True)`\n",
      "/media/ryan/5e52f95b-dbda-4605-bec6-10d513d58772/GitHubProjExt/effective-xgboost-notes/setup.py:49: FutureWarning: Downcasting behavior in `replace` is deprecated and will be removed in a future version. To retain the old behavior, explicitly call `result.infer_objects(copy=False)`. To opt-in to the future behavior, set `pd.set_option('future.no_silent_downcasting', True)`\n",
      "/media/ryan/5e52f95b-dbda-4605-bec6-10d513d58772/GitHubProjExt/effective-xgboost-notes/setup.py:78: FutureWarning: Downcasting behavior in `replace` is deprecated and will be removed in a future version. To retain the old behavior, explicitly call `result.infer_objects(copy=False)`. To opt-in to the future behavior, set `pd.set_option('future.no_silent_downcasting', True)`\n",
      "/media/ryan/5e52f95b-dbda-4605-bec6-10d513d58772/GitHubProjExt/effective-xgboost-notes/setup.py:79: FutureWarning: Downcasting behavior in `replace` is deprecated and will be removed in a future version. To retain the old behavior, explicitly call `result.infer_objects(copy=False)`. To opt-in to the future behavior, set `pd.set_option('future.no_silent_downcasting', True)`\n",
      "/media/ryan/5e52f95b-dbda-4605-bec6-10d513d58772/GitHubProjExt/effective-xgboost-notes/setup.py:80: FutureWarning: Downcasting behavior in `replace` is deprecated and will be removed in a future version. To retain the old behavior, explicitly call `result.infer_objects(copy=False)`. To opt-in to the future behavior, set `pd.set_option('future.no_silent_downcasting', True)`\n"
     ]
    }
   ],
   "source": [
    "from setup import * #gets the real data"
   ]
  },
  {
   "cell_type": "code",
   "execution_count": 5,
   "metadata": {},
   "outputs": [],
   "source": [
    "import numpy as np\n",
    "import numpy.random as rn\n",
    "import pandas as pd\n",
    "import matplotlib.pyplot as plt\n",
    "from sklearn import tree, dummy, preprocessing, ensemble\n",
    "from sklearn.metrics import accuracy_score, roc_auc_score\n",
    "import xgboost as xgb\n",
    "import dtreeviz\n",
    "import yellowbrick.model_selection as ms\n",
    "from hyperopt import fmin, tpe, hp, STATUS_OK, Trials, pyll\n",
    "from typing import Any, Dict, Union, Sequence\n",
    "import seaborn as sns\n",
    "import plotly.graph_objects as go\n",
    "import plotly.express as px\n",
    "#also, must install graphviz for plotting to work with xgb"
   ]
  },
  {
   "cell_type": "code",
   "execution_count": 19,
   "metadata": {},
   "outputs": [],
   "source": [
    "params={'random_state': 42}\n",
    "rounds = [{'max_depth': hp.quniform('max_depth', 1, 8, 1), #tree\n",
    "    'min_child_weight': hp.loguniform('min_child_weight',-2,3)},\n",
    "    {'subsample': hp.uniform('subsample', 0.5, 1), #stochastic\n",
    "    'colsample_bytree': hp.uniform('colsample_bytree', .5, 1)},\n",
    "    {'reg_alpha': hp.uniform('reg_alpha', 0, 10),\n",
    "    'reg_lambda': hp.uniform('reg_lambda',1,10)},\n",
    "    {'gamma': hp.loguniform('gamma', -10, 10), #regularization\n",
    "    'learning_rate': hp.loguniform('learning_rate',-7,0), #boosting\n",
    "} ] #note these are grouped into dictionaries\n"
   ]
  },
  {
   "cell_type": "code",
   "execution_count": 20,
   "metadata": {},
   "outputs": [],
   "source": [
    "def hyperparameter_tuning(space: Dict[str, Union[float, int]],\\\n",
    "    X_train: pd.DataFrame, y_train: pd.Series, X_test: pd.DataFrame,\\\n",
    "    y_test: pd.Series, early_stopping_rounds: int=50, metric:callable=accuracy_score) -> Dict[str, Any]:\n",
    "    \"\"\"\n",
    "    Function for tuning hyperparameters. This is the wrong way to do it! Just a grid search/stepwise. \n",
    "    A better way is done in chapter 13. The better way takes a fraction of the time for the same parameters!\n",
    "    \"\"\"\n",
    "    int_vals = ['max_depth','reg_alpha']\n",
    "    space={k: (int(val) if k in int_vals else val) for k, val in space.items()}\n",
    "    space['early_stopping_rounds'] = early_stopping_rounds\n",
    "    model = xgb.XGBClassifier(**space)\n",
    "    evaluation = [(X_train, y_train), (X_test, y_test)]\n",
    "    model.fit(X_train, y_train, eval_set=evaluation, verbose=False)\n",
    "    pred = model.predict(X_test)\n",
    "    score = metric(y_test, pred)\n",
    "    return {'loss': -score, 'status': STATUS_OK, 'model':model}"
   ]
  },
  {
   "cell_type": "code",
   "execution_count": 54,
   "metadata": {},
   "outputs": [
    {
     "name": "stdout",
     "output_type": "stream",
     "text": [
      "100%|██████████| 20/20 [00:04<00:00,  4.18trial/s, best loss: -0.7635359116022099]\n",
      "100%|██████████| 20/20 [00:04<00:00,  4.66trial/s, best loss: -0.7668508287292818]\n",
      "100%|██████████| 20/20 [00:03<00:00,  5.28trial/s, best loss: -0.7690607734806629]\n",
      "100%|██████████| 20/20 [00:03<00:00,  5.57trial/s, best loss: -0.7624309392265194]\n"
     ]
    }
   ],
   "source": [
    "all_trials = []\n",
    "counter = 0\n",
    "param_dict = dict()\n",
    "for round in rounds:\n",
    "    params = {**params, **round} #putting these two together has the ones on the right overwrite the ones on the left!\n",
    "    trials = Trials()\n",
    "    best = fmin(fn=lambda space: hyperparameter_tuning(space, X_train, y_train, X_test, y_test), space=params, \\\n",
    "    algo=tpe.suggest, max_evals=20, trials=trials, timeout=60*5 ) #put max_evals way down. that's all.\n",
    "    params = {**params, **best} #each round, update params with the best so far from this round\n",
    "    param_dict[counter] = params\n",
    "    counter += 1\n",
    "    all_trials.append(trials)\n",
    "\n",
    "# in the end, the params that comes out is the best params across all rounds!"
   ]
  },
  {
   "cell_type": "code",
   "execution_count": 55,
   "metadata": {},
   "outputs": [
    {
     "data": {
      "text/plain": [
       "{0: {'random_state': 42,\n",
       "  'max_depth': 4.0,\n",
       "  'min_child_weight': 2.458212305327815,\n",
       "  'subsample': 0.5759675916879781,\n",
       "  'colsample_bytree': 0.6700438134020338,\n",
       "  'reg_alpha': 3.2912936851132777,\n",
       "  'reg_lambda': 1.6849564284757554,\n",
       "  'gamma': 0.002619509439664793,\n",
       "  'learning_rate': 0.27445215578940063},\n",
       " 1: {'random_state': 42,\n",
       "  'max_depth': 4.0,\n",
       "  'min_child_weight': 2.458212305327815,\n",
       "  'subsample': 0.8892271693608613,\n",
       "  'colsample_bytree': 0.9301432941452263,\n",
       "  'reg_alpha': 3.2912936851132777,\n",
       "  'reg_lambda': 1.6849564284757554,\n",
       "  'gamma': 0.002619509439664793,\n",
       "  'learning_rate': 0.27445215578940063},\n",
       " 2: {'random_state': 42,\n",
       "  'max_depth': 4.0,\n",
       "  'min_child_weight': 2.458212305327815,\n",
       "  'subsample': 0.8892271693608613,\n",
       "  'colsample_bytree': 0.9301432941452263,\n",
       "  'reg_alpha': 0.8990193851150607,\n",
       "  'reg_lambda': 3.5050157401650095,\n",
       "  'gamma': 0.002619509439664793,\n",
       "  'learning_rate': 0.27445215578940063},\n",
       " 3: {'random_state': 42,\n",
       "  'max_depth': 4.0,\n",
       "  'min_child_weight': 2.458212305327815,\n",
       "  'subsample': 0.8892271693608613,\n",
       "  'colsample_bytree': 0.9301432941452263,\n",
       "  'reg_alpha': 0.8990193851150607,\n",
       "  'reg_lambda': 3.5050157401650095,\n",
       "  'gamma': 0.060498412496152204,\n",
       "  'learning_rate': 0.16400037064490072}}"
      ]
     },
     "execution_count": 55,
     "metadata": {},
     "output_type": "execute_result"
    }
   ],
   "source": [
    "param_dict"
   ]
  },
  {
   "cell_type": "code",
   "execution_count": 58,
   "metadata": {},
   "outputs": [
    {
     "data": {
      "text/plain": [
       "{'random_state': 42,\n",
       " 'max_depth': 4.0,\n",
       " 'min_child_weight': 2.458212305327815,\n",
       " 'subsample': 0.8892271693608613,\n",
       " 'colsample_bytree': 0.9301432941452263,\n",
       " 'reg_alpha': 0.8990193851150607,\n",
       " 'reg_lambda': 3.5050157401650095,\n",
       " 'gamma': <hyperopt.pyll.base.Apply at 0x7f55006c0c10>,\n",
       " 'learning_rate': <hyperopt.pyll.base.Apply at 0x7f55006c1590>}"
      ]
     },
     "execution_count": 58,
     "metadata": {},
     "output_type": "execute_result"
    }
   ],
   "source": [
    "{**params,**round} #putting these two together has the ones on the right overwrite the ones on the left!"
   ]
  },
  {
   "cell_type": "code",
   "execution_count": null,
   "metadata": {},
   "outputs": [],
   "source": [
    "# above is the same as the following, except this does the change in place and that creates a new one.\n",
    "#for items in round:\n",
    "#    params[item] = round[item]"
   ]
  },
  {
   "cell_type": "code",
   "execution_count": 62,
   "metadata": {},
   "outputs": [
    {
     "data": {
      "text/plain": [
       "{'random_state': 42,\n",
       " 'max_depth': 4.0,\n",
       " 'min_child_weight': 2.458212305327815,\n",
       " 'subsample': 0.8892271693608613,\n",
       " 'colsample_bytree': 0.9301432941452263,\n",
       " 'reg_alpha': 0.8990193851150607,\n",
       " 'reg_lambda': 3.5050157401650095,\n",
       " 'gamma': 0.060498412496152204,\n",
       " 'learning_rate': 0.16400037064490072}"
      ]
     },
     "execution_count": 62,
     "metadata": {},
     "output_type": "execute_result"
    }
   ],
   "source": [
    "{**params}"
   ]
  },
  {
   "cell_type": "code",
   "execution_count": 60,
   "metadata": {},
   "outputs": [
    {
     "data": {
      "text/plain": [
       "{'gamma': <hyperopt.pyll.base.Apply at 0x7f55006c0c10>,\n",
       " 'learning_rate': <hyperopt.pyll.base.Apply at 0x7f55006c1590>}"
      ]
     },
     "execution_count": 60,
     "metadata": {},
     "output_type": "execute_result"
    }
   ],
   "source": [
    "{**round}"
   ]
  },
  {
   "cell_type": "code",
   "execution_count": 23,
   "metadata": {},
   "outputs": [],
   "source": [
    "def plot_3d_mesh(df: pd.DataFrame, x_col: str, y_col: str, z_col: str) -> go.Figure:\n",
    "    fig = go.Figure(data=[go.Mesh3d(x=df[x_col], y=df[y_col], z=df[z_col], intensity=df[z_col]/ df[z_col].min(),\n",
    "        hovertemplate=f\"{z_col}: %{{z}}<br>{x_col}: %{{x}}<br>{y_col}: %{{y}}<extra></extra>\")],\n",
    "    )\n",
    "    fig.update_layout(\n",
    "        title=dict(text=f'{y_col} vs {x_col}'),\n",
    "        scene=dict(\n",
    "            xaxis_title=x_col,\n",
    "            yaxis_title=y_col,\n",
    "            zaxis_title=z_col),\n",
    "        width=700,\n",
    "        margin=dict(r=20, b=10, l=10, t=50)\n",
    "    )\n",
    "    return fig"
   ]
  },
  {
   "cell_type": "code",
   "execution_count": 24,
   "metadata": {},
   "outputs": [],
   "source": [
    "def trial2df(trial: Sequence[Dict[str, Any]]) -> pd.DataFrame:\n",
    "    \"\"\"\n",
    "    Convert a trial object (sequence of trial dictionaries) to a Pandas DataFrame.\n",
    "\n",
    "    Parameters:\n",
    "    trial: List[Dict[str, Any]]\n",
    "        A list of trial dictionaries.\n",
    "\n",
    "    Returns\n",
    "    pd.DataFrame - A DataFrame with columns for the loss, trial id, and values from each trial dictionary.\n",
    "    \"\"\"\n",
    "    vals = [] #will be a list of dictionaries, then a pd.DataFrame\n",
    "    for t in trial:\n",
    "        result = t['result']\n",
    "        misc = t['misc']\n",
    "        val = {k:(v[0] if isinstance(v, list) else v) for k, v in misc['vals'].items()\n",
    "               } #dictionary.\n",
    "        val['loss'] = result['loss']\n",
    "        val['tid'] = t['tid']\n",
    "        vals.append(val)\n",
    "    return pd.DataFrame(vals)"
   ]
  },
  {
   "cell_type": "code",
   "execution_count": 25,
   "metadata": {},
   "outputs": [
    {
     "data": {
      "application/vnd.plotly.v1+json": {
       "config": {
        "plotlyServerURL": "https://plot.ly"
       },
       "data": [
        {
         "hovertemplate": "loss: %{z}<br>reg_alpha: %{x}<br>reg_lambda: %{y}<extra></extra>",
         "intensity": [
          0.9956521739130434,
          0.9985507246376811,
          0.9956521739130434,
          0.9869565217391304,
          1,
          0.9956521739130434,
          0.9927536231884057,
          0.9840579710144927,
          0.9971014492753623,
          0.9898550724637681,
          0.9956521739130434,
          0.9927536231884057,
          0.9855072463768115,
          0.9898550724637681,
          0.9971014492753623,
          0.9840579710144927,
          0.9927536231884057,
          0.9884057971014493,
          0.9971014492753623,
          0.9956521739130434
         ],
         "type": "mesh3d",
         "x": [
          4.962734643391845,
          7.866874262476799,
          5.863530501958323,
          8.987118016007416,
          2.3415514873685828,
          9.25199110977566,
          1.0833527393674913,
          0.0352550909153615,
          9.86524182515905,
          6.827060932233872,
          2.8349011990298356,
          5.185785455301085,
          6.02067687054843,
          3.9485961601710304,
          4.877616353956801,
          9.839617990145712,
          4.672181296217025,
          9.966367986040673,
          0.1032976452650014,
          3.6323464941807915
         ],
         "y": [
          9.661511865884977,
          4.949529964188656,
          8.228837725564107,
          9.06850146740997,
          9.384235797771396,
          3.7088101199921004,
          9.78915838651352,
          8.930390165276453,
          1.0354498389505196,
          1.1082755683682812,
          5.8037445962619865,
          9.294305013516825,
          2.6400901788536633,
          9.392763940002217,
          7.901054749659991,
          8.46639242570205,
          4.463151871168215,
          2.1893166606385046,
          4.361600079477229,
          4.343268171817895
         ],
         "z": [
          -0.7591160220994475,
          -0.7613259668508288,
          -0.7591160220994475,
          -0.7524861878453039,
          -0.7624309392265194,
          -0.7591160220994475,
          -0.7569060773480663,
          -0.7502762430939226,
          -0.7602209944751381,
          -0.7546961325966851,
          -0.7591160220994475,
          -0.7569060773480663,
          -0.7513812154696132,
          -0.7546961325966851,
          -0.7602209944751381,
          -0.7502762430939226,
          -0.7569060773480663,
          -0.7535911602209945,
          -0.7602209944751381,
          -0.7591160220994475
         ]
        }
       ],
       "layout": {
        "margin": {
         "b": 10,
         "l": 10,
         "r": 20,
         "t": 50
        },
        "scene": {
         "xaxis": {
          "title": {
           "text": "reg_alpha"
          }
         },
         "yaxis": {
          "title": {
           "text": "reg_lambda"
          }
         },
         "zaxis": {
          "title": {
           "text": "loss"
          }
         }
        },
        "template": {
         "data": {
          "bar": [
           {
            "error_x": {
             "color": "#2a3f5f"
            },
            "error_y": {
             "color": "#2a3f5f"
            },
            "marker": {
             "line": {
              "color": "#E5ECF6",
              "width": 0.5
             },
             "pattern": {
              "fillmode": "overlay",
              "size": 10,
              "solidity": 0.2
             }
            },
            "type": "bar"
           }
          ],
          "barpolar": [
           {
            "marker": {
             "line": {
              "color": "#E5ECF6",
              "width": 0.5
             },
             "pattern": {
              "fillmode": "overlay",
              "size": 10,
              "solidity": 0.2
             }
            },
            "type": "barpolar"
           }
          ],
          "carpet": [
           {
            "aaxis": {
             "endlinecolor": "#2a3f5f",
             "gridcolor": "white",
             "linecolor": "white",
             "minorgridcolor": "white",
             "startlinecolor": "#2a3f5f"
            },
            "baxis": {
             "endlinecolor": "#2a3f5f",
             "gridcolor": "white",
             "linecolor": "white",
             "minorgridcolor": "white",
             "startlinecolor": "#2a3f5f"
            },
            "type": "carpet"
           }
          ],
          "choropleth": [
           {
            "colorbar": {
             "outlinewidth": 0,
             "ticks": ""
            },
            "type": "choropleth"
           }
          ],
          "contour": [
           {
            "colorbar": {
             "outlinewidth": 0,
             "ticks": ""
            },
            "colorscale": [
             [
              0,
              "#0d0887"
             ],
             [
              0.1111111111111111,
              "#46039f"
             ],
             [
              0.2222222222222222,
              "#7201a8"
             ],
             [
              0.3333333333333333,
              "#9c179e"
             ],
             [
              0.4444444444444444,
              "#bd3786"
             ],
             [
              0.5555555555555556,
              "#d8576b"
             ],
             [
              0.6666666666666666,
              "#ed7953"
             ],
             [
              0.7777777777777778,
              "#fb9f3a"
             ],
             [
              0.8888888888888888,
              "#fdca26"
             ],
             [
              1,
              "#f0f921"
             ]
            ],
            "type": "contour"
           }
          ],
          "contourcarpet": [
           {
            "colorbar": {
             "outlinewidth": 0,
             "ticks": ""
            },
            "type": "contourcarpet"
           }
          ],
          "heatmap": [
           {
            "colorbar": {
             "outlinewidth": 0,
             "ticks": ""
            },
            "colorscale": [
             [
              0,
              "#0d0887"
             ],
             [
              0.1111111111111111,
              "#46039f"
             ],
             [
              0.2222222222222222,
              "#7201a8"
             ],
             [
              0.3333333333333333,
              "#9c179e"
             ],
             [
              0.4444444444444444,
              "#bd3786"
             ],
             [
              0.5555555555555556,
              "#d8576b"
             ],
             [
              0.6666666666666666,
              "#ed7953"
             ],
             [
              0.7777777777777778,
              "#fb9f3a"
             ],
             [
              0.8888888888888888,
              "#fdca26"
             ],
             [
              1,
              "#f0f921"
             ]
            ],
            "type": "heatmap"
           }
          ],
          "heatmapgl": [
           {
            "colorbar": {
             "outlinewidth": 0,
             "ticks": ""
            },
            "colorscale": [
             [
              0,
              "#0d0887"
             ],
             [
              0.1111111111111111,
              "#46039f"
             ],
             [
              0.2222222222222222,
              "#7201a8"
             ],
             [
              0.3333333333333333,
              "#9c179e"
             ],
             [
              0.4444444444444444,
              "#bd3786"
             ],
             [
              0.5555555555555556,
              "#d8576b"
             ],
             [
              0.6666666666666666,
              "#ed7953"
             ],
             [
              0.7777777777777778,
              "#fb9f3a"
             ],
             [
              0.8888888888888888,
              "#fdca26"
             ],
             [
              1,
              "#f0f921"
             ]
            ],
            "type": "heatmapgl"
           }
          ],
          "histogram": [
           {
            "marker": {
             "pattern": {
              "fillmode": "overlay",
              "size": 10,
              "solidity": 0.2
             }
            },
            "type": "histogram"
           }
          ],
          "histogram2d": [
           {
            "colorbar": {
             "outlinewidth": 0,
             "ticks": ""
            },
            "colorscale": [
             [
              0,
              "#0d0887"
             ],
             [
              0.1111111111111111,
              "#46039f"
             ],
             [
              0.2222222222222222,
              "#7201a8"
             ],
             [
              0.3333333333333333,
              "#9c179e"
             ],
             [
              0.4444444444444444,
              "#bd3786"
             ],
             [
              0.5555555555555556,
              "#d8576b"
             ],
             [
              0.6666666666666666,
              "#ed7953"
             ],
             [
              0.7777777777777778,
              "#fb9f3a"
             ],
             [
              0.8888888888888888,
              "#fdca26"
             ],
             [
              1,
              "#f0f921"
             ]
            ],
            "type": "histogram2d"
           }
          ],
          "histogram2dcontour": [
           {
            "colorbar": {
             "outlinewidth": 0,
             "ticks": ""
            },
            "colorscale": [
             [
              0,
              "#0d0887"
             ],
             [
              0.1111111111111111,
              "#46039f"
             ],
             [
              0.2222222222222222,
              "#7201a8"
             ],
             [
              0.3333333333333333,
              "#9c179e"
             ],
             [
              0.4444444444444444,
              "#bd3786"
             ],
             [
              0.5555555555555556,
              "#d8576b"
             ],
             [
              0.6666666666666666,
              "#ed7953"
             ],
             [
              0.7777777777777778,
              "#fb9f3a"
             ],
             [
              0.8888888888888888,
              "#fdca26"
             ],
             [
              1,
              "#f0f921"
             ]
            ],
            "type": "histogram2dcontour"
           }
          ],
          "mesh3d": [
           {
            "colorbar": {
             "outlinewidth": 0,
             "ticks": ""
            },
            "type": "mesh3d"
           }
          ],
          "parcoords": [
           {
            "line": {
             "colorbar": {
              "outlinewidth": 0,
              "ticks": ""
             }
            },
            "type": "parcoords"
           }
          ],
          "pie": [
           {
            "automargin": true,
            "type": "pie"
           }
          ],
          "scatter": [
           {
            "fillpattern": {
             "fillmode": "overlay",
             "size": 10,
             "solidity": 0.2
            },
            "type": "scatter"
           }
          ],
          "scatter3d": [
           {
            "line": {
             "colorbar": {
              "outlinewidth": 0,
              "ticks": ""
             }
            },
            "marker": {
             "colorbar": {
              "outlinewidth": 0,
              "ticks": ""
             }
            },
            "type": "scatter3d"
           }
          ],
          "scattercarpet": [
           {
            "marker": {
             "colorbar": {
              "outlinewidth": 0,
              "ticks": ""
             }
            },
            "type": "scattercarpet"
           }
          ],
          "scattergeo": [
           {
            "marker": {
             "colorbar": {
              "outlinewidth": 0,
              "ticks": ""
             }
            },
            "type": "scattergeo"
           }
          ],
          "scattergl": [
           {
            "marker": {
             "colorbar": {
              "outlinewidth": 0,
              "ticks": ""
             }
            },
            "type": "scattergl"
           }
          ],
          "scattermapbox": [
           {
            "marker": {
             "colorbar": {
              "outlinewidth": 0,
              "ticks": ""
             }
            },
            "type": "scattermapbox"
           }
          ],
          "scatterpolar": [
           {
            "marker": {
             "colorbar": {
              "outlinewidth": 0,
              "ticks": ""
             }
            },
            "type": "scatterpolar"
           }
          ],
          "scatterpolargl": [
           {
            "marker": {
             "colorbar": {
              "outlinewidth": 0,
              "ticks": ""
             }
            },
            "type": "scatterpolargl"
           }
          ],
          "scatterternary": [
           {
            "marker": {
             "colorbar": {
              "outlinewidth": 0,
              "ticks": ""
             }
            },
            "type": "scatterternary"
           }
          ],
          "surface": [
           {
            "colorbar": {
             "outlinewidth": 0,
             "ticks": ""
            },
            "colorscale": [
             [
              0,
              "#0d0887"
             ],
             [
              0.1111111111111111,
              "#46039f"
             ],
             [
              0.2222222222222222,
              "#7201a8"
             ],
             [
              0.3333333333333333,
              "#9c179e"
             ],
             [
              0.4444444444444444,
              "#bd3786"
             ],
             [
              0.5555555555555556,
              "#d8576b"
             ],
             [
              0.6666666666666666,
              "#ed7953"
             ],
             [
              0.7777777777777778,
              "#fb9f3a"
             ],
             [
              0.8888888888888888,
              "#fdca26"
             ],
             [
              1,
              "#f0f921"
             ]
            ],
            "type": "surface"
           }
          ],
          "table": [
           {
            "cells": {
             "fill": {
              "color": "#EBF0F8"
             },
             "line": {
              "color": "white"
             }
            },
            "header": {
             "fill": {
              "color": "#C8D4E3"
             },
             "line": {
              "color": "white"
             }
            },
            "type": "table"
           }
          ]
         },
         "layout": {
          "annotationdefaults": {
           "arrowcolor": "#2a3f5f",
           "arrowhead": 0,
           "arrowwidth": 1
          },
          "autotypenumbers": "strict",
          "coloraxis": {
           "colorbar": {
            "outlinewidth": 0,
            "ticks": ""
           }
          },
          "colorscale": {
           "diverging": [
            [
             0,
             "#8e0152"
            ],
            [
             0.1,
             "#c51b7d"
            ],
            [
             0.2,
             "#de77ae"
            ],
            [
             0.3,
             "#f1b6da"
            ],
            [
             0.4,
             "#fde0ef"
            ],
            [
             0.5,
             "#f7f7f7"
            ],
            [
             0.6,
             "#e6f5d0"
            ],
            [
             0.7,
             "#b8e186"
            ],
            [
             0.8,
             "#7fbc41"
            ],
            [
             0.9,
             "#4d9221"
            ],
            [
             1,
             "#276419"
            ]
           ],
           "sequential": [
            [
             0,
             "#0d0887"
            ],
            [
             0.1111111111111111,
             "#46039f"
            ],
            [
             0.2222222222222222,
             "#7201a8"
            ],
            [
             0.3333333333333333,
             "#9c179e"
            ],
            [
             0.4444444444444444,
             "#bd3786"
            ],
            [
             0.5555555555555556,
             "#d8576b"
            ],
            [
             0.6666666666666666,
             "#ed7953"
            ],
            [
             0.7777777777777778,
             "#fb9f3a"
            ],
            [
             0.8888888888888888,
             "#fdca26"
            ],
            [
             1,
             "#f0f921"
            ]
           ],
           "sequentialminus": [
            [
             0,
             "#0d0887"
            ],
            [
             0.1111111111111111,
             "#46039f"
            ],
            [
             0.2222222222222222,
             "#7201a8"
            ],
            [
             0.3333333333333333,
             "#9c179e"
            ],
            [
             0.4444444444444444,
             "#bd3786"
            ],
            [
             0.5555555555555556,
             "#d8576b"
            ],
            [
             0.6666666666666666,
             "#ed7953"
            ],
            [
             0.7777777777777778,
             "#fb9f3a"
            ],
            [
             0.8888888888888888,
             "#fdca26"
            ],
            [
             1,
             "#f0f921"
            ]
           ]
          },
          "colorway": [
           "#636efa",
           "#EF553B",
           "#00cc96",
           "#ab63fa",
           "#FFA15A",
           "#19d3f3",
           "#FF6692",
           "#B6E880",
           "#FF97FF",
           "#FECB52"
          ],
          "font": {
           "color": "#2a3f5f"
          },
          "geo": {
           "bgcolor": "white",
           "lakecolor": "white",
           "landcolor": "#E5ECF6",
           "showlakes": true,
           "showland": true,
           "subunitcolor": "white"
          },
          "hoverlabel": {
           "align": "left"
          },
          "hovermode": "closest",
          "mapbox": {
           "style": "light"
          },
          "paper_bgcolor": "white",
          "plot_bgcolor": "#E5ECF6",
          "polar": {
           "angularaxis": {
            "gridcolor": "white",
            "linecolor": "white",
            "ticks": ""
           },
           "bgcolor": "#E5ECF6",
           "radialaxis": {
            "gridcolor": "white",
            "linecolor": "white",
            "ticks": ""
           }
          },
          "scene": {
           "xaxis": {
            "backgroundcolor": "#E5ECF6",
            "gridcolor": "white",
            "gridwidth": 2,
            "linecolor": "white",
            "showbackground": true,
            "ticks": "",
            "zerolinecolor": "white"
           },
           "yaxis": {
            "backgroundcolor": "#E5ECF6",
            "gridcolor": "white",
            "gridwidth": 2,
            "linecolor": "white",
            "showbackground": true,
            "ticks": "",
            "zerolinecolor": "white"
           },
           "zaxis": {
            "backgroundcolor": "#E5ECF6",
            "gridcolor": "white",
            "gridwidth": 2,
            "linecolor": "white",
            "showbackground": true,
            "ticks": "",
            "zerolinecolor": "white"
           }
          },
          "shapedefaults": {
           "line": {
            "color": "#2a3f5f"
           }
          },
          "ternary": {
           "aaxis": {
            "gridcolor": "white",
            "linecolor": "white",
            "ticks": ""
           },
           "baxis": {
            "gridcolor": "white",
            "linecolor": "white",
            "ticks": ""
           },
           "bgcolor": "#E5ECF6",
           "caxis": {
            "gridcolor": "white",
            "linecolor": "white",
            "ticks": ""
           }
          },
          "title": {
           "x": 0.05
          },
          "xaxis": {
           "automargin": true,
           "gridcolor": "white",
           "linecolor": "white",
           "ticks": "",
           "title": {
            "standoff": 15
           },
           "zerolinecolor": "white",
           "zerolinewidth": 2
          },
          "yaxis": {
           "automargin": true,
           "gridcolor": "white",
           "linecolor": "white",
           "ticks": "",
           "title": {
            "standoff": 15
           },
           "zerolinecolor": "white",
           "zerolinewidth": 2
          }
         }
        },
        "title": {
         "text": "reg_lambda vs reg_alpha"
        },
        "width": 700
       }
      }
     },
     "metadata": {},
     "output_type": "display_data"
    }
   ],
   "source": [
    "plot_3d_mesh(trial2df(all_trials[2]),'reg_alpha','reg_lambda','loss')"
   ]
  },
  {
   "cell_type": "code",
   "execution_count": 37,
   "metadata": {},
   "outputs": [
    {
     "data": {
      "text/plain": [
       "{'state': 2,\n",
       " 'tid': 4,\n",
       " 'spec': None,\n",
       " 'result': {'loss': -0.7624309392265194,\n",
       "  'status': 'ok',\n",
       "  'model': XGBClassifier(base_score=None, booster=None, callbacks=None,\n",
       "                colsample_bylevel=None, colsample_bynode=None,\n",
       "                colsample_bytree=0.8896302716546785, device=None,\n",
       "                early_stopping_rounds=50, enable_categorical=False,\n",
       "                eval_metric=None, feature_types=None, gamma=None,\n",
       "                grow_policy=None, importance_type=None,\n",
       "                interaction_constraints=None, learning_rate=None, max_bin=None,\n",
       "                max_cat_threshold=None, max_cat_to_onehot=None,\n",
       "                max_delta_step=None, max_depth=4, max_leaves=None,\n",
       "                min_child_weight=15.207966409339303, missing=nan,\n",
       "                monotone_constraints=None, multi_strategy=None, n_estimators=None,\n",
       "                n_jobs=None, num_parallel_tree=None, random_state=42, ...)},\n",
       " 'misc': {'tid': 4,\n",
       "  'cmd': ('domain_attachment', 'FMinIter_Domain'),\n",
       "  'workdir': None,\n",
       "  'idxs': {'reg_alpha': [4], 'reg_lambda': [4]},\n",
       "  'vals': {'reg_alpha': [2.3415514873685828],\n",
       "   'reg_lambda': [9.384235797771396]}},\n",
       " 'exp_key': None,\n",
       " 'owner': None,\n",
       " 'version': 0,\n",
       " 'book_time': datetime.datetime(2024, 6, 13, 8, 45, 7, 892000),\n",
       " 'refresh_time': datetime.datetime(2024, 6, 13, 8, 45, 8, 55000)}"
      ]
     },
     "execution_count": 37,
     "metadata": {},
     "output_type": "execute_result"
    }
   ],
   "source": [
    "all_trials[2].best_trial"
   ]
  },
  {
   "cell_type": "code",
   "execution_count": 33,
   "metadata": {},
   "outputs": [],
   "source": [
    "x = all_trials[3]"
   ]
  },
  {
   "cell_type": "code",
   "execution_count": 49,
   "metadata": {},
   "outputs": [
    {
     "data": {
      "text/plain": [
       "{'random_state': 42,\n",
       " 'max_depth': 4.0,\n",
       " 'min_child_weight': 15.207966409339303,\n",
       " 'subsample': 0.5194636430874894,\n",
       " 'colsample_bytree': 0.8896302716546785,\n",
       " 'reg_alpha': 2.3415514873685828,\n",
       " 'reg_lambda': 9.384235797771396,\n",
       " 'gamma': 0.28111479690424057,\n",
       " 'learning_rate': 0.550836065208579}"
      ]
     },
     "execution_count": 49,
     "metadata": {},
     "output_type": "execute_result"
    }
   ],
   "source": [
    "params"
   ]
  },
  {
   "cell_type": "code",
   "execution_count": 35,
   "metadata": {},
   "outputs": [
    {
     "data": {
      "text/plain": [
       "{'gamma': [382.72769820941124,\n",
       "  806.9142409241664,\n",
       "  59.06405594422093,\n",
       "  0.00039014557674611126,\n",
       "  0.28111479690424057,\n",
       "  19.061502286270322,\n",
       "  10.737799574392632,\n",
       "  414.99163244507065,\n",
       "  5600.055679899932,\n",
       "  0.0019292105293202107,\n",
       "  4087.306032576545,\n",
       "  1.169267863384736,\n",
       "  0.03363152010259897,\n",
       "  0.061911023241134185,\n",
       "  1592.631834983687,\n",
       "  0.0019130687504521607,\n",
       "  18.179278138630384,\n",
       "  19.62190378347311,\n",
       "  943.6493783706082,\n",
       "  0.0011189122127534242],\n",
       " 'learning_rate': [0.011457219696628341,\n",
       "  0.017656739002366927,\n",
       "  0.043227926118063247,\n",
       "  0.005768592990512203,\n",
       "  0.550836065208579,\n",
       "  0.032147388760611406,\n",
       "  0.12335579318680964,\n",
       "  0.007754135282312461,\n",
       "  0.003578045066667875,\n",
       "  0.06752695815870569,\n",
       "  0.005065888756386213,\n",
       "  0.09048011486099009,\n",
       "  0.1343670170672564,\n",
       "  0.20754102497349314,\n",
       "  0.010465355860511357,\n",
       "  0.001892850635380048,\n",
       "  0.12981661322573268,\n",
       "  0.009976361779017876,\n",
       "  0.8034071641807218,\n",
       "  0.07344767346228218]}"
      ]
     },
     "execution_count": 35,
     "metadata": {},
     "output_type": "execute_result"
    }
   ],
   "source": [
    "\n",
    "x.vals"
   ]
  },
  {
   "cell_type": "code",
   "execution_count": 36,
   "metadata": {},
   "outputs": [
    {
     "data": {
      "text/plain": [
       "{'state': 2,\n",
       " 'tid': 4,\n",
       " 'spec': None,\n",
       " 'result': {'loss': -0.7602209944751381,\n",
       "  'status': 'ok',\n",
       "  'model': XGBClassifier(base_score=None, booster=None, callbacks=None,\n",
       "                colsample_bylevel=None, colsample_bynode=None,\n",
       "                colsample_bytree=0.8896302716546785, device=None,\n",
       "                early_stopping_rounds=50, enable_categorical=False,\n",
       "                eval_metric=None, feature_types=None, gamma=0.28111479690424057,\n",
       "                grow_policy=None, importance_type=None,\n",
       "                interaction_constraints=None, learning_rate=0.550836065208579,\n",
       "                max_bin=None, max_cat_threshold=None, max_cat_to_onehot=None,\n",
       "                max_delta_step=None, max_depth=4, max_leaves=None,\n",
       "                min_child_weight=15.207966409339303, missing=nan,\n",
       "                monotone_constraints=None, multi_strategy=None, n_estimators=None,\n",
       "                n_jobs=None, num_parallel_tree=None, random_state=42, ...)},\n",
       " 'misc': {'tid': 4,\n",
       "  'cmd': ('domain_attachment', 'FMinIter_Domain'),\n",
       "  'workdir': None,\n",
       "  'idxs': {'gamma': [4], 'learning_rate': [4]},\n",
       "  'vals': {'gamma': [0.28111479690424057],\n",
       "   'learning_rate': [0.550836065208579]}},\n",
       " 'exp_key': None,\n",
       " 'owner': None,\n",
       " 'version': 0,\n",
       " 'book_time': datetime.datetime(2024, 6, 13, 8, 45, 11, 256000),\n",
       " 'refresh_time': datetime.datetime(2024, 6, 13, 8, 45, 11, 437000)}"
      ]
     },
     "execution_count": 36,
     "metadata": {},
     "output_type": "execute_result"
    }
   ],
   "source": [
    "\n",
    "x.best_trial"
   ]
  },
  {
   "cell_type": "code",
   "execution_count": 42,
   "metadata": {},
   "outputs": [
    {
     "name": "stdout",
     "output_type": "stream",
     "text": [
      "{'state': 2, 'tid': 14, 'spec': None, 'result': {'loss': -0.7668508287292818, 'status': 'ok', 'model': XGBClassifier(base_score=None, booster=None, callbacks=None,\n",
      "              colsample_bylevel=None, colsample_bynode=None,\n",
      "              colsample_bytree=None, device=None, early_stopping_rounds=50,\n",
      "              enable_categorical=False, eval_metric=None, feature_types=None,\n",
      "              gamma=None, grow_policy=None, importance_type=None,\n",
      "              interaction_constraints=None, learning_rate=None, max_bin=None,\n",
      "              max_cat_threshold=None, max_cat_to_onehot=None,\n",
      "              max_delta_step=None, max_depth=4, max_leaves=None,\n",
      "              min_child_weight=15.207966409339303, missing=nan,\n",
      "              monotone_constraints=None, multi_strategy=None, n_estimators=None,\n",
      "              n_jobs=None, num_parallel_tree=None, random_state=42, ...)}, 'misc': {'tid': 14, 'cmd': ('domain_attachment', 'FMinIter_Domain'), 'workdir': None, 'idxs': {'max_depth': [14], 'min_child_weight': [14]}, 'vals': {'max_depth': [4.0], 'min_child_weight': [15.207966409339303]}}, 'exp_key': None, 'owner': None, 'version': 0, 'book_time': datetime.datetime(2024, 6, 13, 8, 45, 2, 936000), 'refresh_time': datetime.datetime(2024, 6, 13, 8, 45, 3, 94000)}\n",
      "{'state': 2, 'tid': 11, 'spec': None, 'result': {'loss': -0.7613259668508288, 'status': 'ok', 'model': XGBClassifier(base_score=None, booster=None, callbacks=None,\n",
      "              colsample_bylevel=None, colsample_bynode=None,\n",
      "              colsample_bytree=0.8896302716546785, device=None,\n",
      "              early_stopping_rounds=50, enable_categorical=False,\n",
      "              eval_metric=None, feature_types=None, gamma=None,\n",
      "              grow_policy=None, importance_type=None,\n",
      "              interaction_constraints=None, learning_rate=None, max_bin=None,\n",
      "              max_cat_threshold=None, max_cat_to_onehot=None,\n",
      "              max_delta_step=None, max_depth=4, max_leaves=None,\n",
      "              min_child_weight=15.207966409339303, missing=nan,\n",
      "              monotone_constraints=None, multi_strategy=None, n_estimators=None,\n",
      "              n_jobs=None, num_parallel_tree=None, random_state=42, ...)}, 'misc': {'tid': 11, 'cmd': ('domain_attachment', 'FMinIter_Domain'), 'workdir': None, 'idxs': {'colsample_bytree': [11], 'subsample': [11]}, 'vals': {'colsample_bytree': [0.8896302716546785], 'subsample': [0.5194636430874894]}}, 'exp_key': None, 'owner': None, 'version': 0, 'book_time': datetime.datetime(2024, 6, 13, 8, 45, 5, 942000), 'refresh_time': datetime.datetime(2024, 6, 13, 8, 45, 6, 80000)}\n",
      "{'state': 2, 'tid': 4, 'spec': None, 'result': {'loss': -0.7624309392265194, 'status': 'ok', 'model': XGBClassifier(base_score=None, booster=None, callbacks=None,\n",
      "              colsample_bylevel=None, colsample_bynode=None,\n",
      "              colsample_bytree=0.8896302716546785, device=None,\n",
      "              early_stopping_rounds=50, enable_categorical=False,\n",
      "              eval_metric=None, feature_types=None, gamma=None,\n",
      "              grow_policy=None, importance_type=None,\n",
      "              interaction_constraints=None, learning_rate=None, max_bin=None,\n",
      "              max_cat_threshold=None, max_cat_to_onehot=None,\n",
      "              max_delta_step=None, max_depth=4, max_leaves=None,\n",
      "              min_child_weight=15.207966409339303, missing=nan,\n",
      "              monotone_constraints=None, multi_strategy=None, n_estimators=None,\n",
      "              n_jobs=None, num_parallel_tree=None, random_state=42, ...)}, 'misc': {'tid': 4, 'cmd': ('domain_attachment', 'FMinIter_Domain'), 'workdir': None, 'idxs': {'reg_alpha': [4], 'reg_lambda': [4]}, 'vals': {'reg_alpha': [2.3415514873685828], 'reg_lambda': [9.384235797771396]}}, 'exp_key': None, 'owner': None, 'version': 0, 'book_time': datetime.datetime(2024, 6, 13, 8, 45, 7, 892000), 'refresh_time': datetime.datetime(2024, 6, 13, 8, 45, 8, 55000)}\n",
      "{'state': 2, 'tid': 4, 'spec': None, 'result': {'loss': -0.7602209944751381, 'status': 'ok', 'model': XGBClassifier(base_score=None, booster=None, callbacks=None,\n",
      "              colsample_bylevel=None, colsample_bynode=None,\n",
      "              colsample_bytree=0.8896302716546785, device=None,\n",
      "              early_stopping_rounds=50, enable_categorical=False,\n",
      "              eval_metric=None, feature_types=None, gamma=0.28111479690424057,\n",
      "              grow_policy=None, importance_type=None,\n",
      "              interaction_constraints=None, learning_rate=0.550836065208579,\n",
      "              max_bin=None, max_cat_threshold=None, max_cat_to_onehot=None,\n",
      "              max_delta_step=None, max_depth=4, max_leaves=None,\n",
      "              min_child_weight=15.207966409339303, missing=nan,\n",
      "              monotone_constraints=None, multi_strategy=None, n_estimators=None,\n",
      "              n_jobs=None, num_parallel_tree=None, random_state=42, ...)}, 'misc': {'tid': 4, 'cmd': ('domain_attachment', 'FMinIter_Domain'), 'workdir': None, 'idxs': {'gamma': [4], 'learning_rate': [4]}, 'vals': {'gamma': [0.28111479690424057], 'learning_rate': [0.550836065208579]}}, 'exp_key': None, 'owner': None, 'version': 0, 'book_time': datetime.datetime(2024, 6, 13, 8, 45, 11, 256000), 'refresh_time': datetime.datetime(2024, 6, 13, 8, 45, 11, 437000)}\n"
     ]
    }
   ],
   "source": [
    "\n",
    "for tri in all_trials:\n",
    "    print(tri.best_trial)"
   ]
  },
  {
   "cell_type": "code",
   "execution_count": 47,
   "metadata": {},
   "outputs": [
    {
     "ename": "SyntaxError",
     "evalue": "f-string: unmatched '[' (1308022532.py, line 2)",
     "output_type": "error",
     "traceback": [
      "\u001b[0;36m  Cell \u001b[0;32mIn[47], line 2\u001b[0;36m\u001b[0m\n\u001b[0;31m    print(f'loss: { tri.best_trial['result']['loss'] }, best_trial_result: {tri.best_trial['result']}')\u001b[0m\n\u001b[0m                                    ^\u001b[0m\n\u001b[0;31mSyntaxError\u001b[0m\u001b[0;31m:\u001b[0m f-string: unmatched '['\n"
     ]
    }
   ],
   "source": [
    "for tri in all_trials:\n",
    "    print(f'loss: { tri.best_trial['result']['loss'] }, best_trial_result: {tri.best_trial['result']}')"
   ]
  },
  {
   "cell_type": "code",
   "execution_count": 48,
   "metadata": {},
   "outputs": [
    {
     "ename": "KeyError",
     "evalue": "0",
     "output_type": "error",
     "traceback": [
      "\u001b[0;31m---------------------------------------------------------------------------\u001b[0m",
      "\u001b[0;31mKeyError\u001b[0m                                  Traceback (most recent call last)",
      "Cell \u001b[0;32mIn[48], line 1\u001b[0m\n\u001b[0;32m----> 1\u001b[0m \u001b[43mtri\u001b[49m\u001b[38;5;241;43m.\u001b[39;49m\u001b[43mbest_trial\u001b[49m\u001b[43m[\u001b[49m\u001b[38;5;241;43m0\u001b[39;49m\u001b[43m]\u001b[49m\n",
      "\u001b[0;31mKeyError\u001b[0m: 0"
     ]
    }
   ],
   "source": [
    "for tri in all_trials:\n",
    "    "
   ]
  },
  {
   "cell_type": "code",
   "execution_count": null,
   "metadata": {},
   "outputs": [],
   "source": []
  }
 ],
 "metadata": {
  "kernelspec": {
   "display_name": "Python 3",
   "language": "python",
   "name": "python3"
  },
  "language_info": {
   "codemirror_mode": {
    "name": "ipython",
    "version": 3
   },
   "file_extension": ".py",
   "mimetype": "text/x-python",
   "name": "python",
   "nbconvert_exporter": "python",
   "pygments_lexer": "ipython3",
   "version": "3.11.9"
  }
 },
 "nbformat": 4,
 "nbformat_minor": 2
}
