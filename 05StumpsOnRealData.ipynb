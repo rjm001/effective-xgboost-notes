{
 "cells": [
  {
   "cell_type": "code",
   "execution_count": null,
   "metadata": {},
   "outputs": [],
   "source": [
    "## 05 - Stumps on Real Data"
   ]
  },
  {
   "cell_type": "code",
   "execution_count": 3,
   "metadata": {},
   "outputs": [
    {
     "name": "stderr",
     "output_type": "stream",
     "text": [
      "/media/ryan/5e52f95b-dbda-4605-bec6-10d513d58772/GitHubProjExt/effective-xgboost-notes/setup.py:33: DtypeWarning: Columns (0,2,8,10,21,23,24,25,26,27,28,42,44,54,56,64,81,83,85,87,105,107,109,121,123,125,148,150,157,172,174,192,194,210,218,219,221,223,246,247,249,262,264,276,277,278,279,280,281,282,283,284,285,286,287,288,289,290,302,304,306,325,326,329,341,368,371,384,385,389,390,391,393,394) have mixed types. Specify dtype option on import or set low_memory=False.\n",
      "/media/ryan/5e52f95b-dbda-4605-bec6-10d513d58772/GitHubProjExt/effective-xgboost-notes/setup.py:50: FutureWarning: Downcasting behavior in `replace` is deprecated and will be removed in a future version. To retain the old behavior, explicitly call `result.infer_objects(copy=False)`. To opt-in to the future behavior, set `pd.set_option('future.no_silent_downcasting', True)`\n",
      "/media/ryan/5e52f95b-dbda-4605-bec6-10d513d58772/GitHubProjExt/effective-xgboost-notes/setup.py:79: FutureWarning: Downcasting behavior in `replace` is deprecated and will be removed in a future version. To retain the old behavior, explicitly call `result.infer_objects(copy=False)`. To opt-in to the future behavior, set `pd.set_option('future.no_silent_downcasting', True)`\n",
      "/media/ryan/5e52f95b-dbda-4605-bec6-10d513d58772/GitHubProjExt/effective-xgboost-notes/setup.py:80: FutureWarning: Downcasting behavior in `replace` is deprecated and will be removed in a future version. To retain the old behavior, explicitly call `result.infer_objects(copy=False)`. To opt-in to the future behavior, set `pd.set_option('future.no_silent_downcasting', True)`\n",
      "/media/ryan/5e52f95b-dbda-4605-bec6-10d513d58772/GitHubProjExt/effective-xgboost-notes/setup.py:81: FutureWarning: Downcasting behavior in `replace` is deprecated and will be removed in a future version. To retain the old behavior, explicitly call `result.infer_objects(copy=False)`. To opt-in to the future behavior, set `pd.set_option('future.no_silent_downcasting', True)`\n",
      "/media/ryan/5e52f95b-dbda-4605-bec6-10d513d58772/GitHubProjExt/effective-xgboost-notes/setup.py:50: FutureWarning: Downcasting behavior in `replace` is deprecated and will be removed in a future version. To retain the old behavior, explicitly call `result.infer_objects(copy=False)`. To opt-in to the future behavior, set `pd.set_option('future.no_silent_downcasting', True)`\n",
      "/media/ryan/5e52f95b-dbda-4605-bec6-10d513d58772/GitHubProjExt/effective-xgboost-notes/setup.py:79: FutureWarning: Downcasting behavior in `replace` is deprecated and will be removed in a future version. To retain the old behavior, explicitly call `result.infer_objects(copy=False)`. To opt-in to the future behavior, set `pd.set_option('future.no_silent_downcasting', True)`\n",
      "/media/ryan/5e52f95b-dbda-4605-bec6-10d513d58772/GitHubProjExt/effective-xgboost-notes/setup.py:80: FutureWarning: Downcasting behavior in `replace` is deprecated and will be removed in a future version. To retain the old behavior, explicitly call `result.infer_objects(copy=False)`. To opt-in to the future behavior, set `pd.set_option('future.no_silent_downcasting', True)`\n",
      "/media/ryan/5e52f95b-dbda-4605-bec6-10d513d58772/GitHubProjExt/effective-xgboost-notes/setup.py:81: FutureWarning: Downcasting behavior in `replace` is deprecated and will be removed in a future version. To retain the old behavior, explicitly call `result.infer_objects(copy=False)`. To opt-in to the future behavior, set `pd.set_option('future.no_silent_downcasting', True)`\n"
     ]
    },
    {
     "name": "stdout",
     "output_type": "stream",
     "text": [
      "       age  education  years_exp  compensation  python  r  sql  Q1_Male  \\\n",
      "587     25       18.0        4.0             0       1  0    1        1   \n",
      "3065    22       16.0        1.0         10000       1  0    0        1   \n",
      "8435    22       18.0        1.0             0       1  0    0        1   \n",
      "3110    40       20.0        3.0        125000       1  0    1        0   \n",
      "16372   45       12.0        5.0        100000       1  0    1        1   \n",
      "...    ...        ...        ...           ...     ... ..  ...      ...   \n",
      "16608   25       16.0        2.0         10000       0  0    1        1   \n",
      "7325    18       16.0        1.0         30000       1  0    1        1   \n",
      "21810   18       16.0        2.0             0       0  0    0        1   \n",
      "4917    25       18.0        1.0        100000       1  0    1        1   \n",
      "639     25       18.0        1.0         10000       1  0    0        0   \n",
      "\n",
      "       Q1_Female  Q1_Prefer not to say  Q1_Prefer to self-describe  \\\n",
      "587            0                     0                           0   \n",
      "3065           0                     0                           0   \n",
      "8435           0                     0                           0   \n",
      "3110           1                     0                           0   \n",
      "16372          0                     0                           0   \n",
      "...          ...                   ...                         ...   \n",
      "16608          0                     0                           0   \n",
      "7325           0                     0                           0   \n",
      "21810          0                     0                           0   \n",
      "4917           0                     0                           0   \n",
      "639            1                     0                           0   \n",
      "\n",
      "       Q3_United States of America  Q3_India  Q3_China  major_cs  major_other  \\\n",
      "587                              0         1         0         0            1   \n",
      "3065                             0         1         0         1            0   \n",
      "8435                             0         1         0         0            1   \n",
      "3110                             1         0         0         0            1   \n",
      "16372                            1         0         0         0            1   \n",
      "...                            ...       ...       ...       ...          ...   \n",
      "16608                            0         1         0         1            0   \n",
      "7325                             1         0         0         1            0   \n",
      "21810                            0         1         0         1            0   \n",
      "4917                             1         0         0         0            0   \n",
      "639                              0         1         0         1            0   \n",
      "\n",
      "       major_eng  major_stat  \n",
      "587            0           0  \n",
      "3065           0           0  \n",
      "8435           0           0  \n",
      "3110           0           0  \n",
      "16372          0           0  \n",
      "...          ...         ...  \n",
      "16608          0           0  \n",
      "7325           0           0  \n",
      "21810          0           0  \n",
      "4917           0           1  \n",
      "639            0           0  \n",
      "\n",
      "[2110 rows x 18 columns]\n"
     ]
    }
   ],
   "source": [
    "from setup import * #gets the real data"
   ]
  },
  {
   "cell_type": "code",
   "execution_count": 29,
   "metadata": {},
   "outputs": [],
   "source": [
    "import numpy as np\n",
    "import numpy.random as rn\n",
    "import pandas as pd\n",
    "import matplotlib.pyplot as plt\n",
    "from sklearn import tree, dummy, preprocessing\n",
    "import xgboost as xgb\n",
    "import dtreeviz\n",
    "#also, must install graphviz for plotting to work with xgb"
   ]
  },
  {
   "cell_type": "code",
   "execution_count": 2,
   "metadata": {},
   "outputs": [],
   "source": [
    "stump_dt = tree.DecisionTreeClassifier(max_depth=1) #this is the scikit-learn tree"
   ]
  },
  {
   "cell_type": "code",
   "execution_count": 4,
   "metadata": {},
   "outputs": [
    {
     "name": "stderr",
     "output_type": "stream",
     "text": [
      "/media/ryan/5e52f95b-dbda-4605-bec6-10d513d58772/GitHubProjExt/effective-xgboost-notes/setup.py:50: FutureWarning: Downcasting behavior in `replace` is deprecated and will be removed in a future version. To retain the old behavior, explicitly call `result.infer_objects(copy=False)`. To opt-in to the future behavior, set `pd.set_option('future.no_silent_downcasting', True)`\n",
      "/media/ryan/5e52f95b-dbda-4605-bec6-10d513d58772/GitHubProjExt/effective-xgboost-notes/setup.py:79: FutureWarning: Downcasting behavior in `replace` is deprecated and will be removed in a future version. To retain the old behavior, explicitly call `result.infer_objects(copy=False)`. To opt-in to the future behavior, set `pd.set_option('future.no_silent_downcasting', True)`\n",
      "/media/ryan/5e52f95b-dbda-4605-bec6-10d513d58772/GitHubProjExt/effective-xgboost-notes/setup.py:80: FutureWarning: Downcasting behavior in `replace` is deprecated and will be removed in a future version. To retain the old behavior, explicitly call `result.infer_objects(copy=False)`. To opt-in to the future behavior, set `pd.set_option('future.no_silent_downcasting', True)`\n",
      "/media/ryan/5e52f95b-dbda-4605-bec6-10d513d58772/GitHubProjExt/effective-xgboost-notes/setup.py:81: FutureWarning: Downcasting behavior in `replace` is deprecated and will be removed in a future version. To retain the old behavior, explicitly call `result.infer_objects(copy=False)`. To opt-in to the future behavior, set `pd.set_option('future.no_silent_downcasting', True)`\n"
     ]
    },
    {
     "data": {
      "text/html": [
       "<style>#sk-container-id-1 {\n",
       "  /* Definition of color scheme common for light and dark mode */\n",
       "  --sklearn-color-text: black;\n",
       "  --sklearn-color-line: gray;\n",
       "  /* Definition of color scheme for unfitted estimators */\n",
       "  --sklearn-color-unfitted-level-0: #fff5e6;\n",
       "  --sklearn-color-unfitted-level-1: #f6e4d2;\n",
       "  --sklearn-color-unfitted-level-2: #ffe0b3;\n",
       "  --sklearn-color-unfitted-level-3: chocolate;\n",
       "  /* Definition of color scheme for fitted estimators */\n",
       "  --sklearn-color-fitted-level-0: #f0f8ff;\n",
       "  --sklearn-color-fitted-level-1: #d4ebff;\n",
       "  --sklearn-color-fitted-level-2: #b3dbfd;\n",
       "  --sklearn-color-fitted-level-3: cornflowerblue;\n",
       "\n",
       "  /* Specific color for light theme */\n",
       "  --sklearn-color-text-on-default-background: var(--sg-text-color, var(--theme-code-foreground, var(--jp-content-font-color1, black)));\n",
       "  --sklearn-color-background: var(--sg-background-color, var(--theme-background, var(--jp-layout-color0, white)));\n",
       "  --sklearn-color-border-box: var(--sg-text-color, var(--theme-code-foreground, var(--jp-content-font-color1, black)));\n",
       "  --sklearn-color-icon: #696969;\n",
       "\n",
       "  @media (prefers-color-scheme: dark) {\n",
       "    /* Redefinition of color scheme for dark theme */\n",
       "    --sklearn-color-text-on-default-background: var(--sg-text-color, var(--theme-code-foreground, var(--jp-content-font-color1, white)));\n",
       "    --sklearn-color-background: var(--sg-background-color, var(--theme-background, var(--jp-layout-color0, #111)));\n",
       "    --sklearn-color-border-box: var(--sg-text-color, var(--theme-code-foreground, var(--jp-content-font-color1, white)));\n",
       "    --sklearn-color-icon: #878787;\n",
       "  }\n",
       "}\n",
       "\n",
       "#sk-container-id-1 {\n",
       "  color: var(--sklearn-color-text);\n",
       "}\n",
       "\n",
       "#sk-container-id-1 pre {\n",
       "  padding: 0;\n",
       "}\n",
       "\n",
       "#sk-container-id-1 input.sk-hidden--visually {\n",
       "  border: 0;\n",
       "  clip: rect(1px 1px 1px 1px);\n",
       "  clip: rect(1px, 1px, 1px, 1px);\n",
       "  height: 1px;\n",
       "  margin: -1px;\n",
       "  overflow: hidden;\n",
       "  padding: 0;\n",
       "  position: absolute;\n",
       "  width: 1px;\n",
       "}\n",
       "\n",
       "#sk-container-id-1 div.sk-dashed-wrapped {\n",
       "  border: 1px dashed var(--sklearn-color-line);\n",
       "  margin: 0 0.4em 0.5em 0.4em;\n",
       "  box-sizing: border-box;\n",
       "  padding-bottom: 0.4em;\n",
       "  background-color: var(--sklearn-color-background);\n",
       "}\n",
       "\n",
       "#sk-container-id-1 div.sk-container {\n",
       "  /* jupyter's `normalize.less` sets `[hidden] { display: none; }`\n",
       "     but bootstrap.min.css set `[hidden] { display: none !important; }`\n",
       "     so we also need the `!important` here to be able to override the\n",
       "     default hidden behavior on the sphinx rendered scikit-learn.org.\n",
       "     See: https://github.com/scikit-learn/scikit-learn/issues/21755 */\n",
       "  display: inline-block !important;\n",
       "  position: relative;\n",
       "}\n",
       "\n",
       "#sk-container-id-1 div.sk-text-repr-fallback {\n",
       "  display: none;\n",
       "}\n",
       "\n",
       "div.sk-parallel-item,\n",
       "div.sk-serial,\n",
       "div.sk-item {\n",
       "  /* draw centered vertical line to link estimators */\n",
       "  background-image: linear-gradient(var(--sklearn-color-text-on-default-background), var(--sklearn-color-text-on-default-background));\n",
       "  background-size: 2px 100%;\n",
       "  background-repeat: no-repeat;\n",
       "  background-position: center center;\n",
       "}\n",
       "\n",
       "/* Parallel-specific style estimator block */\n",
       "\n",
       "#sk-container-id-1 div.sk-parallel-item::after {\n",
       "  content: \"\";\n",
       "  width: 100%;\n",
       "  border-bottom: 2px solid var(--sklearn-color-text-on-default-background);\n",
       "  flex-grow: 1;\n",
       "}\n",
       "\n",
       "#sk-container-id-1 div.sk-parallel {\n",
       "  display: flex;\n",
       "  align-items: stretch;\n",
       "  justify-content: center;\n",
       "  background-color: var(--sklearn-color-background);\n",
       "  position: relative;\n",
       "}\n",
       "\n",
       "#sk-container-id-1 div.sk-parallel-item {\n",
       "  display: flex;\n",
       "  flex-direction: column;\n",
       "}\n",
       "\n",
       "#sk-container-id-1 div.sk-parallel-item:first-child::after {\n",
       "  align-self: flex-end;\n",
       "  width: 50%;\n",
       "}\n",
       "\n",
       "#sk-container-id-1 div.sk-parallel-item:last-child::after {\n",
       "  align-self: flex-start;\n",
       "  width: 50%;\n",
       "}\n",
       "\n",
       "#sk-container-id-1 div.sk-parallel-item:only-child::after {\n",
       "  width: 0;\n",
       "}\n",
       "\n",
       "/* Serial-specific style estimator block */\n",
       "\n",
       "#sk-container-id-1 div.sk-serial {\n",
       "  display: flex;\n",
       "  flex-direction: column;\n",
       "  align-items: center;\n",
       "  background-color: var(--sklearn-color-background);\n",
       "  padding-right: 1em;\n",
       "  padding-left: 1em;\n",
       "}\n",
       "\n",
       "\n",
       "/* Toggleable style: style used for estimator/Pipeline/ColumnTransformer box that is\n",
       "clickable and can be expanded/collapsed.\n",
       "- Pipeline and ColumnTransformer use this feature and define the default style\n",
       "- Estimators will overwrite some part of the style using the `sk-estimator` class\n",
       "*/\n",
       "\n",
       "/* Pipeline and ColumnTransformer style (default) */\n",
       "\n",
       "#sk-container-id-1 div.sk-toggleable {\n",
       "  /* Default theme specific background. It is overwritten whether we have a\n",
       "  specific estimator or a Pipeline/ColumnTransformer */\n",
       "  background-color: var(--sklearn-color-background);\n",
       "}\n",
       "\n",
       "/* Toggleable label */\n",
       "#sk-container-id-1 label.sk-toggleable__label {\n",
       "  cursor: pointer;\n",
       "  display: block;\n",
       "  width: 100%;\n",
       "  margin-bottom: 0;\n",
       "  padding: 0.5em;\n",
       "  box-sizing: border-box;\n",
       "  text-align: center;\n",
       "}\n",
       "\n",
       "#sk-container-id-1 label.sk-toggleable__label-arrow:before {\n",
       "  /* Arrow on the left of the label */\n",
       "  content: \"▸\";\n",
       "  float: left;\n",
       "  margin-right: 0.25em;\n",
       "  color: var(--sklearn-color-icon);\n",
       "}\n",
       "\n",
       "#sk-container-id-1 label.sk-toggleable__label-arrow:hover:before {\n",
       "  color: var(--sklearn-color-text);\n",
       "}\n",
       "\n",
       "/* Toggleable content - dropdown */\n",
       "\n",
       "#sk-container-id-1 div.sk-toggleable__content {\n",
       "  max-height: 0;\n",
       "  max-width: 0;\n",
       "  overflow: hidden;\n",
       "  text-align: left;\n",
       "  /* unfitted */\n",
       "  background-color: var(--sklearn-color-unfitted-level-0);\n",
       "}\n",
       "\n",
       "#sk-container-id-1 div.sk-toggleable__content.fitted {\n",
       "  /* fitted */\n",
       "  background-color: var(--sklearn-color-fitted-level-0);\n",
       "}\n",
       "\n",
       "#sk-container-id-1 div.sk-toggleable__content pre {\n",
       "  margin: 0.2em;\n",
       "  border-radius: 0.25em;\n",
       "  color: var(--sklearn-color-text);\n",
       "  /* unfitted */\n",
       "  background-color: var(--sklearn-color-unfitted-level-0);\n",
       "}\n",
       "\n",
       "#sk-container-id-1 div.sk-toggleable__content.fitted pre {\n",
       "  /* unfitted */\n",
       "  background-color: var(--sklearn-color-fitted-level-0);\n",
       "}\n",
       "\n",
       "#sk-container-id-1 input.sk-toggleable__control:checked~div.sk-toggleable__content {\n",
       "  /* Expand drop-down */\n",
       "  max-height: 200px;\n",
       "  max-width: 100%;\n",
       "  overflow: auto;\n",
       "}\n",
       "\n",
       "#sk-container-id-1 input.sk-toggleable__control:checked~label.sk-toggleable__label-arrow:before {\n",
       "  content: \"▾\";\n",
       "}\n",
       "\n",
       "/* Pipeline/ColumnTransformer-specific style */\n",
       "\n",
       "#sk-container-id-1 div.sk-label input.sk-toggleable__control:checked~label.sk-toggleable__label {\n",
       "  color: var(--sklearn-color-text);\n",
       "  background-color: var(--sklearn-color-unfitted-level-2);\n",
       "}\n",
       "\n",
       "#sk-container-id-1 div.sk-label.fitted input.sk-toggleable__control:checked~label.sk-toggleable__label {\n",
       "  background-color: var(--sklearn-color-fitted-level-2);\n",
       "}\n",
       "\n",
       "/* Estimator-specific style */\n",
       "\n",
       "/* Colorize estimator box */\n",
       "#sk-container-id-1 div.sk-estimator input.sk-toggleable__control:checked~label.sk-toggleable__label {\n",
       "  /* unfitted */\n",
       "  background-color: var(--sklearn-color-unfitted-level-2);\n",
       "}\n",
       "\n",
       "#sk-container-id-1 div.sk-estimator.fitted input.sk-toggleable__control:checked~label.sk-toggleable__label {\n",
       "  /* fitted */\n",
       "  background-color: var(--sklearn-color-fitted-level-2);\n",
       "}\n",
       "\n",
       "#sk-container-id-1 div.sk-label label.sk-toggleable__label,\n",
       "#sk-container-id-1 div.sk-label label {\n",
       "  /* The background is the default theme color */\n",
       "  color: var(--sklearn-color-text-on-default-background);\n",
       "}\n",
       "\n",
       "/* On hover, darken the color of the background */\n",
       "#sk-container-id-1 div.sk-label:hover label.sk-toggleable__label {\n",
       "  color: var(--sklearn-color-text);\n",
       "  background-color: var(--sklearn-color-unfitted-level-2);\n",
       "}\n",
       "\n",
       "/* Label box, darken color on hover, fitted */\n",
       "#sk-container-id-1 div.sk-label.fitted:hover label.sk-toggleable__label.fitted {\n",
       "  color: var(--sklearn-color-text);\n",
       "  background-color: var(--sklearn-color-fitted-level-2);\n",
       "}\n",
       "\n",
       "/* Estimator label */\n",
       "\n",
       "#sk-container-id-1 div.sk-label label {\n",
       "  font-family: monospace;\n",
       "  font-weight: bold;\n",
       "  display: inline-block;\n",
       "  line-height: 1.2em;\n",
       "}\n",
       "\n",
       "#sk-container-id-1 div.sk-label-container {\n",
       "  text-align: center;\n",
       "}\n",
       "\n",
       "/* Estimator-specific */\n",
       "#sk-container-id-1 div.sk-estimator {\n",
       "  font-family: monospace;\n",
       "  border: 1px dotted var(--sklearn-color-border-box);\n",
       "  border-radius: 0.25em;\n",
       "  box-sizing: border-box;\n",
       "  margin-bottom: 0.5em;\n",
       "  /* unfitted */\n",
       "  background-color: var(--sklearn-color-unfitted-level-0);\n",
       "}\n",
       "\n",
       "#sk-container-id-1 div.sk-estimator.fitted {\n",
       "  /* fitted */\n",
       "  background-color: var(--sklearn-color-fitted-level-0);\n",
       "}\n",
       "\n",
       "/* on hover */\n",
       "#sk-container-id-1 div.sk-estimator:hover {\n",
       "  /* unfitted */\n",
       "  background-color: var(--sklearn-color-unfitted-level-2);\n",
       "}\n",
       "\n",
       "#sk-container-id-1 div.sk-estimator.fitted:hover {\n",
       "  /* fitted */\n",
       "  background-color: var(--sklearn-color-fitted-level-2);\n",
       "}\n",
       "\n",
       "/* Specification for estimator info (e.g. \"i\" and \"?\") */\n",
       "\n",
       "/* Common style for \"i\" and \"?\" */\n",
       "\n",
       ".sk-estimator-doc-link,\n",
       "a:link.sk-estimator-doc-link,\n",
       "a:visited.sk-estimator-doc-link {\n",
       "  float: right;\n",
       "  font-size: smaller;\n",
       "  line-height: 1em;\n",
       "  font-family: monospace;\n",
       "  background-color: var(--sklearn-color-background);\n",
       "  border-radius: 1em;\n",
       "  height: 1em;\n",
       "  width: 1em;\n",
       "  text-decoration: none !important;\n",
       "  margin-left: 1ex;\n",
       "  /* unfitted */\n",
       "  border: var(--sklearn-color-unfitted-level-1) 1pt solid;\n",
       "  color: var(--sklearn-color-unfitted-level-1);\n",
       "}\n",
       "\n",
       ".sk-estimator-doc-link.fitted,\n",
       "a:link.sk-estimator-doc-link.fitted,\n",
       "a:visited.sk-estimator-doc-link.fitted {\n",
       "  /* fitted */\n",
       "  border: var(--sklearn-color-fitted-level-1) 1pt solid;\n",
       "  color: var(--sklearn-color-fitted-level-1);\n",
       "}\n",
       "\n",
       "/* On hover */\n",
       "div.sk-estimator:hover .sk-estimator-doc-link:hover,\n",
       ".sk-estimator-doc-link:hover,\n",
       "div.sk-label-container:hover .sk-estimator-doc-link:hover,\n",
       ".sk-estimator-doc-link:hover {\n",
       "  /* unfitted */\n",
       "  background-color: var(--sklearn-color-unfitted-level-3);\n",
       "  color: var(--sklearn-color-background);\n",
       "  text-decoration: none;\n",
       "}\n",
       "\n",
       "div.sk-estimator.fitted:hover .sk-estimator-doc-link.fitted:hover,\n",
       ".sk-estimator-doc-link.fitted:hover,\n",
       "div.sk-label-container:hover .sk-estimator-doc-link.fitted:hover,\n",
       ".sk-estimator-doc-link.fitted:hover {\n",
       "  /* fitted */\n",
       "  background-color: var(--sklearn-color-fitted-level-3);\n",
       "  color: var(--sklearn-color-background);\n",
       "  text-decoration: none;\n",
       "}\n",
       "\n",
       "/* Span, style for the box shown on hovering the info icon */\n",
       ".sk-estimator-doc-link span {\n",
       "  display: none;\n",
       "  z-index: 9999;\n",
       "  position: relative;\n",
       "  font-weight: normal;\n",
       "  right: .2ex;\n",
       "  padding: .5ex;\n",
       "  margin: .5ex;\n",
       "  width: min-content;\n",
       "  min-width: 20ex;\n",
       "  max-width: 50ex;\n",
       "  color: var(--sklearn-color-text);\n",
       "  box-shadow: 2pt 2pt 4pt #999;\n",
       "  /* unfitted */\n",
       "  background: var(--sklearn-color-unfitted-level-0);\n",
       "  border: .5pt solid var(--sklearn-color-unfitted-level-3);\n",
       "}\n",
       "\n",
       ".sk-estimator-doc-link.fitted span {\n",
       "  /* fitted */\n",
       "  background: var(--sklearn-color-fitted-level-0);\n",
       "  border: var(--sklearn-color-fitted-level-3);\n",
       "}\n",
       "\n",
       ".sk-estimator-doc-link:hover span {\n",
       "  display: block;\n",
       "}\n",
       "\n",
       "/* \"?\"-specific style due to the `<a>` HTML tag */\n",
       "\n",
       "#sk-container-id-1 a.estimator_doc_link {\n",
       "  float: right;\n",
       "  font-size: 1rem;\n",
       "  line-height: 1em;\n",
       "  font-family: monospace;\n",
       "  background-color: var(--sklearn-color-background);\n",
       "  border-radius: 1rem;\n",
       "  height: 1rem;\n",
       "  width: 1rem;\n",
       "  text-decoration: none;\n",
       "  /* unfitted */\n",
       "  color: var(--sklearn-color-unfitted-level-1);\n",
       "  border: var(--sklearn-color-unfitted-level-1) 1pt solid;\n",
       "}\n",
       "\n",
       "#sk-container-id-1 a.estimator_doc_link.fitted {\n",
       "  /* fitted */\n",
       "  border: var(--sklearn-color-fitted-level-1) 1pt solid;\n",
       "  color: var(--sklearn-color-fitted-level-1);\n",
       "}\n",
       "\n",
       "/* On hover */\n",
       "#sk-container-id-1 a.estimator_doc_link:hover {\n",
       "  /* unfitted */\n",
       "  background-color: var(--sklearn-color-unfitted-level-3);\n",
       "  color: var(--sklearn-color-background);\n",
       "  text-decoration: none;\n",
       "}\n",
       "\n",
       "#sk-container-id-1 a.estimator_doc_link.fitted:hover {\n",
       "  /* fitted */\n",
       "  background-color: var(--sklearn-color-fitted-level-3);\n",
       "}\n",
       "</style><div id=\"sk-container-id-1\" class=\"sk-top-container\"><div class=\"sk-text-repr-fallback\"><pre>DecisionTreeClassifier(max_depth=1)</pre><b>In a Jupyter environment, please rerun this cell to show the HTML representation or trust the notebook. <br />On GitHub, the HTML representation is unable to render, please try loading this page with nbviewer.org.</b></div><div class=\"sk-container\" hidden><div class=\"sk-item\"><div class=\"sk-estimator fitted sk-toggleable\"><input class=\"sk-toggleable__control sk-hidden--visually\" id=\"sk-estimator-id-1\" type=\"checkbox\" checked><label for=\"sk-estimator-id-1\" class=\"sk-toggleable__label fitted sk-toggleable__label-arrow fitted\">&nbsp;&nbsp;DecisionTreeClassifier<a class=\"sk-estimator-doc-link fitted\" rel=\"noreferrer\" target=\"_blank\" href=\"https://scikit-learn.org/1.4/modules/generated/sklearn.tree.DecisionTreeClassifier.html\">?<span>Documentation for DecisionTreeClassifier</span></a><span class=\"sk-estimator-doc-link fitted\">i<span>Fitted</span></span></label><div class=\"sk-toggleable__content fitted\"><pre>DecisionTreeClassifier(max_depth=1)</pre></div> </div></div></div></div>"
      ],
      "text/plain": [
       "DecisionTreeClassifier(max_depth=1)"
      ]
     },
     "execution_count": 4,
     "metadata": {},
     "output_type": "execute_result"
    }
   ],
   "source": [
    "X_train = kag_pl.fit_transform(kag_X_train)\n",
    "stump_dt.fit(X_train, kag_y_train)"
   ]
  },
  {
   "cell_type": "code",
   "execution_count": 9,
   "metadata": {},
   "outputs": [
    {
     "data": {
      "text/plain": [
       "[Text(0.5, 0.75, 'r <= 0.5\\ngini = 0.496\\nsamples = 2110\\nvalue = [1153, 957]\\nclass = Data Scientist'),\n",
       " Text(0.25, 0.25, 'gini = 0.493\\nsamples = 1484\\nvalue = [653, 831]\\nclass = Software Engineer'),\n",
       " Text(0.75, 0.25, 'gini = 0.322\\nsamples = 626\\nvalue = [500.0, 126.0]\\nclass = Data Scientist')]"
      ]
     },
     "execution_count": 9,
     "metadata": {},
     "output_type": "execute_result"
    },
    {
     "data": {
      "image/png": "[encoded data removed]",
      "text/plain": [
       "<Figure size 800x400 with 1 Axes>"
      ]
     },
     "metadata": {},
     "output_type": "display_data"
    }
   ],
   "source": [
    "fig, ax = plt.subplots(figsize=(8,4))\n",
    "features = list(c for c in X_train.columns) #list comprehension written with list() instead of []\n",
    "tree.plot_tree(stump_dt, feature_names=features, filled=True, class_names=stump_dt.classes_, ax=ax)"
   ]
  },
  {
   "cell_type": "code",
   "execution_count": 12,
   "metadata": {},
   "outputs": [
    {
     "name": "stderr",
     "output_type": "stream",
     "text": [
      "/media/ryan/5e52f95b-dbda-4605-bec6-10d513d58772/GitHubProjExt/effective-xgboost-notes/setup.py:50: FutureWarning: Downcasting behavior in `replace` is deprecated and will be removed in a future version. To retain the old behavior, explicitly call `result.infer_objects(copy=False)`. To opt-in to the future behavior, set `pd.set_option('future.no_silent_downcasting', True)`\n",
      "/media/ryan/5e52f95b-dbda-4605-bec6-10d513d58772/GitHubProjExt/effective-xgboost-notes/setup.py:79: FutureWarning: Downcasting behavior in `replace` is deprecated and will be removed in a future version. To retain the old behavior, explicitly call `result.infer_objects(copy=False)`. To opt-in to the future behavior, set `pd.set_option('future.no_silent_downcasting', True)`\n",
      "/media/ryan/5e52f95b-dbda-4605-bec6-10d513d58772/GitHubProjExt/effective-xgboost-notes/setup.py:80: FutureWarning: Downcasting behavior in `replace` is deprecated and will be removed in a future version. To retain the old behavior, explicitly call `result.infer_objects(copy=False)`. To opt-in to the future behavior, set `pd.set_option('future.no_silent_downcasting', True)`\n",
      "/media/ryan/5e52f95b-dbda-4605-bec6-10d513d58772/GitHubProjExt/effective-xgboost-notes/setup.py:81: FutureWarning: Downcasting behavior in `replace` is deprecated and will be removed in a future version. To retain the old behavior, explicitly call `result.infer_objects(copy=False)`. To opt-in to the future behavior, set `pd.set_option('future.no_silent_downcasting', True)`\n"
     ]
    },
    {
     "data": {
      "text/plain": [
       "0.6243093922651933"
      ]
     },
     "execution_count": 12,
     "metadata": {},
     "output_type": "execute_result"
    }
   ],
   "source": [
    "X_test = kag_pl.transform(kag_X_test)\n",
    "stump_dt.score(X_test, kag_y_test)"
   ]
  },
  {
   "cell_type": "code",
   "execution_count": 13,
   "metadata": {},
   "outputs": [
    {
     "data": {
      "text/plain": [
       "0.5458563535911602"
      ]
     },
     "execution_count": 13,
     "metadata": {},
     "output_type": "execute_result"
    }
   ],
   "source": [
    "dummy_model = dummy.DummyClassifier()\n",
    "dummy_model.fit(X_train, kag_y_train)\n",
    "dummy_model.score(X_test, kag_y_test) #this is the percent of values that are 'Data Scientist'. \n",
    "#Same as fitting a constant. Always Guess data scientist"
   ]
  },
  {
   "cell_type": "markdown",
   "metadata": {},
   "source": [
    "**Now with xgboost**"
   ]
  },
  {
   "cell_type": "code",
   "execution_count": 27,
   "metadata": {},
   "outputs": [
    {
     "name": "stdout",
     "output_type": "stream",
     "text": [
      "Invalid classes inferred from unique values of `y`.  Expected: [0 1], got ['Data Scientist' 'Software Engineer']\n"
     ]
    }
   ],
   "source": [
    "try:\n",
    "    kag_stump = xgb.XGBClassifier(n_estimators=1, max_depth=1)\n",
    "    kag_stump.fit(X_train, kag_y_train)\n",
    "except Exception as e:\n",
    "    print(e)\n",
    "\n",
    "## xgboost requires map it to 0-1. won't just do strings automatically for the y-values (and maybe not for x-values too?)"
   ]
  },
  {
   "cell_type": "code",
   "execution_count": 30,
   "metadata": {},
   "outputs": [
    {
     "data": {
      "text/plain": [
       "array([1, 0, 0, 1, 1])"
      ]
     },
     "execution_count": 30,
     "metadata": {},
     "output_type": "execute_result"
    }
   ],
   "source": [
    "label_encoder = preprocessing.LabelEncoder()\n",
    "y_train = label_encoder.fit_transform(kag_y_train)\n",
    "y_test = label_encoder.transform(kag_y_test)\n",
    "y_test[:5]"
   ]
  },
  {
   "cell_type": "code",
   "execution_count": 34,
   "metadata": {},
   "outputs": [
    {
     "data": {
      "text/plain": [
       "array(['Data Scientist', 'Software Engineer'], dtype=object)"
      ]
     },
     "execution_count": 34,
     "metadata": {},
     "output_type": "execute_result"
    }
   ],
   "source": [
    "label_encoder.classes_ #this is why use sklearn preprocessing over pandas. stores this fore later\n",
    "# the order here says Data Scientist is 0 and Software Engineer is 1\n",
    "# can also say, Software Engineer is hte positive label.\n",
    "# can also see as follows\n",
    "label_encoder.inverse_transform([0,1])\n",
    "# very cool, tools us 0 is data scientist and 1 is software engineer"
   ]
  },
  {
   "cell_type": "code",
   "execution_count": null,
   "metadata": {},
   "outputs": [],
   "source": [
    "kag_stump = xgb.XGBClassifier(n_estimators=1, max_depth=1)\n",
    "kag_stump.fit(X_train, y_train)\n",
    "kag_stump.score(X_test, y_test)"
   ]
  },
  {
   "cell_type": "code",
   "execution_count": 38,
   "metadata": {},
   "outputs": [
    {
     "data": {
      "text/plain": [
       "<Axes: >"
      ]
     },
     "execution_count": 38,
     "metadata": {},
     "output_type": "execute_result"
    },
    {
     "data": {
      "image/png": "[encoded data removed]",
      "text/plain": [
       "<Figure size 640x480 with 1 Axes>"
      ]
     },
     "metadata": {},
     "output_type": "display_data"
    }
   ],
   "source": [
    "#fig, ax = plt.subplots(figsize=(8,4)) #this doesn't work with it! will add a separate plot. not the xgb tree plot\n",
    "xgb.plot_tree(kag_stump,num_trees=0)\n",
    "#ax.set_title('XGBoost stump') this doesn't work with it!"
   ]
  },
  {
   "cell_type": "code",
   "execution_count": 39,
   "metadata": {},
   "outputs": [
    {
     "data": {
      "text/plain": [
       "array([0, 1])"
      ]
     },
     "execution_count": 39,
     "metadata": {},
     "output_type": "execute_result"
    }
   ],
   "source": [
    "kag_stump.classes_"
   ]
  },
  {
   "cell_type": "code",
   "execution_count": 40,
   "metadata": {},
   "outputs": [],
   "source": [
    "def inv_logit(p):\n",
    "    return np.exp(p)/(1 + np.exp(p))"
   ]
  },
  {
   "cell_type": "code",
   "execution_count": 44,
   "metadata": {},
   "outputs": [
    {
     "data": {
      "text/plain": [
       "array([0.53195638, 0.42457994])"
      ]
     },
     "execution_count": 44,
     "metadata": {},
     "output_type": "execute_result"
    }
   ],
   "source": [
    "inv_logit([.128,-.304]) #53.2% This is the probability of the left node. \n",
    "#(For my tree, it has left leaf=.128, right leaf=-.303). Why doesn't it add to 1?"
   ]
  },
  {
   "cell_type": "code",
   "execution_count": 46,
   "metadata": {},
   "outputs": [
    {
     "data": {
      "text/plain": [
       "array([-7.        , -6.71428571, -6.42857143, -6.14285714, -5.85714286,\n",
       "       -5.57142857, -5.28571429, -5.        , -4.71428571, -4.42857143,\n",
       "       -4.14285714, -3.85714286, -3.57142857, -3.28571429, -3.        ,\n",
       "       -2.71428571, -2.42857143, -2.14285714, -1.85714286, -1.57142857,\n",
       "       -1.28571429, -1.        , -0.71428571, -0.42857143, -0.14285714,\n",
       "        0.14285714,  0.42857143,  0.71428571,  1.        ,  1.28571429,\n",
       "        1.57142857,  1.85714286,  2.14285714,  2.42857143,  2.71428571,\n",
       "        3.        ,  3.28571429,  3.57142857,  3.85714286,  4.14285714,\n",
       "        4.42857143,  4.71428571,  5.        ,  5.28571429,  5.57142857,\n",
       "        5.85714286,  6.14285714,  6.42857143,  6.71428571,  7.        ])"
      ]
     },
     "execution_count": 46,
     "metadata": {},
     "output_type": "execute_result"
    }
   ],
   "source": [
    "vals = np.linspace(-7,7)\n",
    "vals #by default, makes 50 evenly spaced points between (inclusive) the start and stop arguments"
   ]
  },
  {
   "cell_type": "code",
   "execution_count": 47,
   "metadata": {},
   "outputs": [
    {
     "name": "stdout",
     "output_type": "stream",
     "text": [
      "Help on _ArrayFunctionDispatcher in module numpy:\n",
      "\n",
      "linspace(start, stop, num=50, endpoint=True, retstep=False, dtype=None, axis=0)\n",
      "    Return evenly spaced numbers over a specified interval.\n",
      "    \n",
      "    Returns `num` evenly spaced samples, calculated over the\n",
      "    interval [`start`, `stop`].\n",
      "    \n",
      "    The endpoint of the interval can optionally be excluded.\n",
      "    \n",
      "    .. versionchanged:: 1.16.0\n",
      "        Non-scalar `start` and `stop` are now supported.\n",
      "    \n",
      "    .. versionchanged:: 1.20.0\n",
      "        Values are rounded towards ``-inf`` instead of ``0`` when an\n",
      "        integer ``dtype`` is specified. The old behavior can\n",
      "        still be obtained with ``np.linspace(start, stop, num).astype(int)``\n",
      "    \n",
      "    Parameters\n",
      "    ----------\n",
      "    start : array_like\n",
      "        The starting value of the sequence.\n",
      "    stop : array_like\n",
      "        The end value of the sequence, unless `endpoint` is set to False.\n",
      "        In that case, the sequence consists of all but the last of ``num + 1``\n",
      "        evenly spaced samples, so that `stop` is excluded.  Note that the step\n",
      "        size changes when `endpoint` is False.\n",
      "    num : int, optional\n",
      "        Number of samples to generate. Default is 50. Must be non-negative.\n",
      "    endpoint : bool, optional\n",
      "        If True, `stop` is the last sample. Otherwise, it is not included.\n",
      "        Default is True.\n",
      "    retstep : bool, optional\n",
      "        If True, return (`samples`, `step`), where `step` is the spacing\n",
      "        between samples.\n",
      "    dtype : dtype, optional\n",
      "        The type of the output array.  If `dtype` is not given, the data type\n",
      "        is inferred from `start` and `stop`. The inferred dtype will never be\n",
      "        an integer; `float` is chosen even if the arguments would produce an\n",
      "        array of integers.\n",
      "    \n",
      "        .. versionadded:: 1.9.0\n",
      "    \n",
      "    axis : int, optional\n",
      "        The axis in the result to store the samples.  Relevant only if start\n",
      "        or stop are array-like.  By default (0), the samples will be along a\n",
      "        new axis inserted at the beginning. Use -1 to get an axis at the end.\n",
      "    \n",
      "        .. versionadded:: 1.16.0\n",
      "    \n",
      "    Returns\n",
      "    -------\n",
      "    samples : ndarray\n",
      "        There are `num` equally spaced samples in the closed interval\n",
      "        ``[start, stop]`` or the half-open interval ``[start, stop)``\n",
      "        (depending on whether `endpoint` is True or False).\n",
      "    step : float, optional\n",
      "        Only returned if `retstep` is True\n",
      "    \n",
      "        Size of spacing between samples.\n",
      "    \n",
      "    \n",
      "    See Also\n",
      "    --------\n",
      "    arange : Similar to `linspace`, but uses a step size (instead of the\n",
      "             number of samples).\n",
      "    geomspace : Similar to `linspace`, but with numbers spaced evenly on a log\n",
      "                scale (a geometric progression).\n",
      "    logspace : Similar to `geomspace`, but with the end points specified as\n",
      "               logarithms.\n",
      "    :ref:`how-to-partition`\n",
      "    \n",
      "    Examples\n",
      "    --------\n",
      "    >>> np.linspace(2.0, 3.0, num=5)\n",
      "    array([2.  , 2.25, 2.5 , 2.75, 3.  ])\n",
      "    >>> np.linspace(2.0, 3.0, num=5, endpoint=False)\n",
      "    array([2. ,  2.2,  2.4,  2.6,  2.8])\n",
      "    >>> np.linspace(2.0, 3.0, num=5, retstep=True)\n",
      "    (array([2.  ,  2.25,  2.5 ,  2.75,  3.  ]), 0.25)\n",
      "    \n",
      "    Graphical illustration:\n",
      "    \n",
      "    >>> import matplotlib.pyplot as plt\n",
      "    >>> N = 8\n",
      "    >>> y = np.zeros(N)\n",
      "    >>> x1 = np.linspace(0, 10, N, endpoint=True)\n",
      "    >>> x2 = np.linspace(0, 10, N, endpoint=False)\n",
      "    >>> plt.plot(x1, y, 'o')\n",
      "    [<matplotlib.lines.Line2D object at 0x...>]\n",
      "    >>> plt.plot(x2, y + 0.5, 'o')\n",
      "    [<matplotlib.lines.Line2D object at 0x...>]\n",
      "    >>> plt.ylim([-0.5, 1])\n",
      "    (-0.5, 1)\n",
      "    >>> plt.show()\n",
      "\n"
     ]
    }
   ],
   "source": [
    "help(np.linspace)"
   ]
  },
  {
   "cell_type": "code",
   "execution_count": 52,
   "metadata": {},
   "outputs": [
    {
     "data": {
      "text/plain": [
       "Text(-3, 0.4, 'Predict Negative')"
      ]
     },
     "execution_count": 52,
     "metadata": {},
     "output_type": "execute_result"
    },
    {
     "data": {
      "image/png": "[encoded data removed]",
      "text/plain": [
       "<Figure size 800x400 with 1 Axes>"
      ]
     },
     "metadata": {},
     "output_type": "display_data"
    }
   ],
   "source": [
    "fig, ax = plt.subplots(figsize=(8,4))\n",
    "vals = np.linspace(-7,7)\n",
    "ax.plot(vals, inv_logit(vals))\n",
    "ax.annotate('Crossover Point', (0,.5), (-5,.8), arrowprops={'color':'k'}) \n",
    "#the first point is where the arrow points. The second is where the words start for the first one\n",
    "ax.annotate('Predict Positive', (5,.6), (1,.6),va='center' ,arrowprops={'color':'k'})\n",
    "ax.annotate('Predict Negative', (-5,.4), (-3,.4),va='center', arrowprops={'color':'k'})\n",
    "# for these ones, left is where the arrow points, right where the annnotation begins. (non-arrow start)\n"
   ]
  },
  {
   "cell_type": "code",
   "execution_count": 21,
   "metadata": {},
   "outputs": [
    {
     "data": {
      "text/plain": [
       "array([0.5464455, 0.5464455, 0.5464455, 0.5464455, 0.5464455, 0.5464455,\n",
       "       0.5464455, 0.5464455, 0.5464455, 0.5464455, 0.5464455, 0.5464455,\n",
       "       0.5464455, 0.5464455, 0.5464455, 0.5464455, 0.5464455, 0.5464455,\n",
       "       0.5464455, 0.5464455, 0.5464455, 0.5464455, 0.5464455, 0.5464455,\n",
       "       0.5464455, 0.5464455, 0.5464455, 0.5464455, 0.5464455, 0.5464455,\n",
       "       0.5464455, 0.5464455, 0.5464455, 0.5464455, 0.5464455, 0.5464455,\n",
       "       0.5464455, 0.5464455, 0.5464455, 0.5464455, 0.5464455, 0.5464455,\n",
       "       0.5464455, 0.5464455, 0.5464455, 0.5464455, 0.5464455, 0.5464455,\n",
       "       0.5464455, 0.5464455, 0.5464455, 0.5464455, 0.5464455, 0.5464455,\n",
       "       0.5464455, 0.5464455, 0.5464455, 0.5464455, 0.5464455, 0.5464455,\n",
       "       0.5464455, 0.5464455, 0.5464455, 0.5464455, 0.5464455, 0.5464455,\n",
       "       0.5464455, 0.5464455, 0.5464455, 0.5464455, 0.5464455, 0.5464455,\n",
       "       0.5464455, 0.5464455, 0.5464455, 0.5464455, 0.5464455, 0.5464455,\n",
       "       0.5464455, 0.5464455, 0.5464455, 0.5464455, 0.5464455, 0.5464455,\n",
       "       0.5464455, 0.5464455, 0.5464455, 0.5464455, 0.5464455, 0.5464455,\n",
       "       0.5464455, 0.5464455, 0.5464455, 0.5464455, 0.5464455, 0.5464455,\n",
       "       0.5464455, 0.5464455, 0.5464455, 0.5464455, 0.5464455, 0.5464455,\n",
       "       0.5464455, 0.5464455, 0.5464455, 0.5464455, 0.5464455, 0.5464455,\n",
       "       0.5464455, 0.5464455, 0.5464455, 0.5464455, 0.5464455, 0.5464455,\n",
       "       0.5464455, 0.5464455, 0.5464455, 0.5464455, 0.5464455, 0.5464455,\n",
       "       0.5464455, 0.5464455, 0.5464455, 0.5464455, 0.5464455, 0.5464455,\n",
       "       0.5464455, 0.5464455, 0.5464455, 0.5464455, 0.5464455, 0.5464455,\n",
       "       0.5464455, 0.5464455, 0.5464455, 0.5464455, 0.5464455, 0.5464455,\n",
       "       0.5464455, 0.5464455, 0.5464455, 0.5464455, 0.5464455, 0.5464455,\n",
       "       0.5464455, 0.5464455, 0.5464455, 0.5464455, 0.5464455, 0.5464455,\n",
       "       0.5464455, 0.5464455, 0.5464455, 0.5464455, 0.5464455, 0.5464455,\n",
       "       0.5464455, 0.5464455, 0.5464455, 0.5464455, 0.5464455, 0.5464455,\n",
       "       0.5464455, 0.5464455, 0.5464455, 0.5464455, 0.5464455, 0.5464455,\n",
       "       0.5464455, 0.5464455, 0.5464455, 0.5464455, 0.5464455, 0.5464455,\n",
       "       0.5464455, 0.5464455, 0.5464455, 0.5464455, 0.5464455, 0.5464455,\n",
       "       0.5464455, 0.5464455, 0.5464455, 0.5464455, 0.5464455, 0.5464455,\n",
       "       0.5464455, 0.5464455, 0.5464455, 0.5464455, 0.5464455, 0.5464455,\n",
       "       0.5464455, 0.5464455, 0.5464455, 0.5464455, 0.5464455, 0.5464455,\n",
       "       0.5464455, 0.5464455, 0.5464455, 0.5464455, 0.5464455, 0.5464455,\n",
       "       0.5464455, 0.5464455, 0.5464455, 0.5464455, 0.5464455, 0.5464455,\n",
       "       0.5464455, 0.5464455, 0.5464455, 0.5464455, 0.5464455, 0.5464455,\n",
       "       0.5464455, 0.5464455, 0.5464455, 0.5464455, 0.5464455, 0.5464455,\n",
       "       0.5464455, 0.5464455, 0.5464455, 0.5464455, 0.5464455, 0.5464455,\n",
       "       0.5464455, 0.5464455, 0.5464455, 0.5464455, 0.5464455, 0.5464455,\n",
       "       0.5464455, 0.5464455, 0.5464455, 0.5464455, 0.5464455, 0.5464455,\n",
       "       0.5464455, 0.5464455, 0.5464455, 0.5464455, 0.5464455, 0.5464455,\n",
       "       0.5464455, 0.5464455, 0.5464455, 0.5464455, 0.5464455, 0.5464455,\n",
       "       0.5464455, 0.5464455, 0.5464455, 0.5464455, 0.5464455, 0.5464455,\n",
       "       0.5464455, 0.5464455, 0.5464455, 0.5464455, 0.5464455, 0.5464455,\n",
       "       0.5464455, 0.5464455, 0.5464455, 0.5464455, 0.5464455, 0.5464455,\n",
       "       0.5464455, 0.5464455, 0.5464455, 0.5464455, 0.5464455, 0.5464455,\n",
       "       0.5464455, 0.5464455, 0.5464455, 0.5464455, 0.5464455, 0.5464455,\n",
       "       0.5464455, 0.5464455, 0.5464455, 0.5464455, 0.5464455, 0.5464455,\n",
       "       0.5464455, 0.5464455, 0.5464455, 0.5464455, 0.5464455, 0.5464455,\n",
       "       0.5464455, 0.5464455, 0.5464455, 0.5464455, 0.5464455, 0.5464455,\n",
       "       0.5464455, 0.5464455, 0.5464455, 0.5464455, 0.5464455, 0.5464455,\n",
       "       0.5464455, 0.5464455, 0.5464455, 0.5464455, 0.5464455, 0.5464455,\n",
       "       0.5464455, 0.5464455, 0.5464455, 0.5464455, 0.5464455, 0.5464455,\n",
       "       0.5464455, 0.5464455, 0.5464455, 0.5464455, 0.5464455, 0.5464455,\n",
       "       0.5464455, 0.5464455, 0.5464455, 0.5464455, 0.5464455, 0.5464455,\n",
       "       0.5464455, 0.5464455, 0.5464455, 0.5464455, 0.5464455, 0.5464455,\n",
       "       0.5464455, 0.5464455, 0.5464455, 0.5464455, 0.5464455, 0.5464455,\n",
       "       0.5464455, 0.5464455, 0.5464455, 0.5464455, 0.5464455, 0.5464455,\n",
       "       0.5464455, 0.5464455, 0.5464455, 0.5464455, 0.5464455, 0.5464455,\n",
       "       0.5464455, 0.5464455, 0.5464455, 0.5464455, 0.5464455, 0.5464455,\n",
       "       0.5464455, 0.5464455, 0.5464455, 0.5464455, 0.5464455, 0.5464455,\n",
       "       0.5464455, 0.5464455, 0.5464455, 0.5464455, 0.5464455, 0.5464455,\n",
       "       0.5464455, 0.5464455, 0.5464455, 0.5464455, 0.5464455, 0.5464455,\n",
       "       0.5464455, 0.5464455, 0.5464455, 0.5464455, 0.5464455, 0.5464455,\n",
       "       0.5464455, 0.5464455, 0.5464455, 0.5464455, 0.5464455, 0.5464455,\n",
       "       0.5464455, 0.5464455, 0.5464455, 0.5464455, 0.5464455, 0.5464455,\n",
       "       0.5464455, 0.5464455, 0.5464455, 0.5464455, 0.5464455, 0.5464455,\n",
       "       0.5464455, 0.5464455, 0.5464455, 0.5464455, 0.5464455, 0.5464455,\n",
       "       0.5464455, 0.5464455, 0.5464455, 0.5464455, 0.5464455, 0.5464455,\n",
       "       0.5464455, 0.5464455, 0.5464455, 0.5464455, 0.5464455, 0.5464455,\n",
       "       0.5464455, 0.5464455, 0.5464455, 0.5464455, 0.5464455, 0.5464455,\n",
       "       0.5464455, 0.5464455, 0.5464455, 0.5464455, 0.5464455, 0.5464455,\n",
       "       0.5464455, 0.5464455, 0.5464455, 0.5464455, 0.5464455, 0.5464455,\n",
       "       0.5464455, 0.5464455, 0.5464455, 0.5464455, 0.5464455, 0.5464455,\n",
       "       0.5464455, 0.5464455, 0.5464455, 0.5464455, 0.5464455, 0.5464455,\n",
       "       0.5464455, 0.5464455, 0.5464455, 0.5464455, 0.5464455, 0.5464455,\n",
       "       0.5464455, 0.5464455, 0.5464455, 0.5464455, 0.5464455, 0.5464455,\n",
       "       0.5464455, 0.5464455, 0.5464455, 0.5464455, 0.5464455, 0.5464455,\n",
       "       0.5464455, 0.5464455, 0.5464455, 0.5464455, 0.5464455, 0.5464455,\n",
       "       0.5464455, 0.5464455, 0.5464455, 0.5464455, 0.5464455, 0.5464455,\n",
       "       0.5464455, 0.5464455, 0.5464455, 0.5464455, 0.5464455, 0.5464455,\n",
       "       0.5464455, 0.5464455, 0.5464455, 0.5464455, 0.5464455, 0.5464455,\n",
       "       0.5464455, 0.5464455, 0.5464455, 0.5464455, 0.5464455, 0.5464455,\n",
       "       0.5464455, 0.5464455, 0.5464455, 0.5464455, 0.5464455, 0.5464455,\n",
       "       0.5464455, 0.5464455, 0.5464455, 0.5464455, 0.5464455, 0.5464455,\n",
       "       0.5464455, 0.5464455, 0.5464455, 0.5464455, 0.5464455, 0.5464455,\n",
       "       0.5464455, 0.5464455, 0.5464455, 0.5464455, 0.5464455, 0.5464455,\n",
       "       0.5464455, 0.5464455, 0.5464455, 0.5464455, 0.5464455, 0.5464455,\n",
       "       0.5464455, 0.5464455, 0.5464455, 0.5464455, 0.5464455, 0.5464455,\n",
       "       0.5464455, 0.5464455, 0.5464455, 0.5464455, 0.5464455, 0.5464455,\n",
       "       0.5464455, 0.5464455, 0.5464455, 0.5464455, 0.5464455, 0.5464455,\n",
       "       0.5464455, 0.5464455, 0.5464455, 0.5464455, 0.5464455, 0.5464455,\n",
       "       0.5464455, 0.5464455, 0.5464455, 0.5464455, 0.5464455, 0.5464455,\n",
       "       0.5464455, 0.5464455, 0.5464455, 0.5464455, 0.5464455, 0.5464455,\n",
       "       0.5464455, 0.5464455, 0.5464455, 0.5464455, 0.5464455, 0.5464455,\n",
       "       0.5464455, 0.5464455, 0.5464455, 0.5464455, 0.5464455, 0.5464455,\n",
       "       0.5464455, 0.5464455, 0.5464455, 0.5464455, 0.5464455, 0.5464455,\n",
       "       0.5464455, 0.5464455, 0.5464455, 0.5464455, 0.5464455, 0.5464455,\n",
       "       0.5464455, 0.5464455, 0.5464455, 0.5464455, 0.5464455, 0.5464455,\n",
       "       0.5464455, 0.5464455, 0.5464455, 0.5464455, 0.5464455, 0.5464455,\n",
       "       0.5464455, 0.5464455, 0.5464455, 0.5464455, 0.5464455, 0.5464455,\n",
       "       0.5464455, 0.5464455, 0.5464455, 0.5464455, 0.5464455, 0.5464455,\n",
       "       0.5464455, 0.5464455, 0.5464455, 0.5464455, 0.5464455, 0.5464455,\n",
       "       0.5464455, 0.5464455, 0.5464455, 0.5464455, 0.5464455, 0.5464455,\n",
       "       0.5464455, 0.5464455, 0.5464455, 0.5464455, 0.5464455, 0.5464455,\n",
       "       0.5464455, 0.5464455, 0.5464455, 0.5464455, 0.5464455, 0.5464455,\n",
       "       0.5464455, 0.5464455, 0.5464455, 0.5464455, 0.5464455, 0.5464455,\n",
       "       0.5464455, 0.5464455, 0.5464455, 0.5464455, 0.5464455, 0.5464455,\n",
       "       0.5464455, 0.5464455, 0.5464455, 0.5464455, 0.5464455, 0.5464455,\n",
       "       0.5464455, 0.5464455, 0.5464455, 0.5464455, 0.5464455, 0.5464455,\n",
       "       0.5464455, 0.5464455, 0.5464455, 0.5464455, 0.5464455, 0.5464455,\n",
       "       0.5464455, 0.5464455, 0.5464455, 0.5464455, 0.5464455, 0.5464455,\n",
       "       0.5464455, 0.5464455, 0.5464455, 0.5464455, 0.5464455, 0.5464455,\n",
       "       0.5464455, 0.5464455, 0.5464455, 0.5464455, 0.5464455, 0.5464455,\n",
       "       0.5464455, 0.5464455, 0.5464455, 0.5464455, 0.5464455, 0.5464455,\n",
       "       0.5464455, 0.5464455, 0.5464455, 0.5464455, 0.5464455, 0.5464455,\n",
       "       0.5464455, 0.5464455, 0.5464455, 0.5464455, 0.5464455, 0.5464455,\n",
       "       0.5464455, 0.5464455, 0.5464455, 0.5464455, 0.5464455, 0.5464455,\n",
       "       0.5464455, 0.5464455, 0.5464455, 0.5464455, 0.5464455, 0.5464455,\n",
       "       0.5464455, 0.5464455, 0.5464455, 0.5464455, 0.5464455, 0.5464455,\n",
       "       0.5464455, 0.5464455, 0.5464455, 0.5464455, 0.5464455, 0.5464455,\n",
       "       0.5464455, 0.5464455, 0.5464455, 0.5464455, 0.5464455, 0.5464455,\n",
       "       0.5464455, 0.5464455, 0.5464455, 0.5464455, 0.5464455, 0.5464455,\n",
       "       0.5464455, 0.5464455, 0.5464455, 0.5464455, 0.5464455, 0.5464455,\n",
       "       0.5464455, 0.5464455, 0.5464455, 0.5464455, 0.5464455, 0.5464455,\n",
       "       0.5464455, 0.5464455, 0.5464455, 0.5464455, 0.5464455, 0.5464455,\n",
       "       0.5464455, 0.5464455, 0.5464455, 0.5464455, 0.5464455, 0.5464455,\n",
       "       0.5464455, 0.5464455, 0.5464455, 0.5464455, 0.5464455, 0.5464455,\n",
       "       0.5464455, 0.5464455, 0.5464455, 0.5464455, 0.5464455, 0.5464455,\n",
       "       0.5464455, 0.5464455, 0.5464455, 0.5464455, 0.5464455, 0.5464455,\n",
       "       0.5464455, 0.5464455, 0.5464455, 0.5464455, 0.5464455, 0.5464455,\n",
       "       0.5464455, 0.5464455, 0.5464455, 0.5464455, 0.5464455, 0.5464455,\n",
       "       0.5464455, 0.5464455, 0.5464455, 0.5464455, 0.5464455, 0.5464455,\n",
       "       0.5464455, 0.5464455, 0.5464455, 0.5464455, 0.5464455, 0.5464455,\n",
       "       0.5464455, 0.5464455, 0.5464455, 0.5464455, 0.5464455, 0.5464455,\n",
       "       0.5464455, 0.5464455, 0.5464455, 0.5464455, 0.5464455, 0.5464455,\n",
       "       0.5464455, 0.5464455, 0.5464455, 0.5464455, 0.5464455, 0.5464455,\n",
       "       0.5464455, 0.5464455, 0.5464455, 0.5464455, 0.5464455, 0.5464455,\n",
       "       0.5464455, 0.5464455, 0.5464455, 0.5464455, 0.5464455, 0.5464455,\n",
       "       0.5464455, 0.5464455, 0.5464455, 0.5464455, 0.5464455, 0.5464455,\n",
       "       0.5464455, 0.5464455, 0.5464455, 0.5464455, 0.5464455, 0.5464455,\n",
       "       0.5464455, 0.5464455, 0.5464455, 0.5464455, 0.5464455, 0.5464455,\n",
       "       0.5464455, 0.5464455, 0.5464455, 0.5464455, 0.5464455, 0.5464455,\n",
       "       0.5464455, 0.5464455, 0.5464455, 0.5464455, 0.5464455, 0.5464455,\n",
       "       0.5464455, 0.5464455, 0.5464455, 0.5464455, 0.5464455, 0.5464455,\n",
       "       0.5464455, 0.5464455, 0.5464455, 0.5464455, 0.5464455, 0.5464455,\n",
       "       0.5464455, 0.5464455, 0.5464455, 0.5464455, 0.5464455, 0.5464455,\n",
       "       0.5464455, 0.5464455, 0.5464455, 0.5464455, 0.5464455, 0.5464455,\n",
       "       0.5464455, 0.5464455, 0.5464455, 0.5464455, 0.5464455, 0.5464455,\n",
       "       0.5464455, 0.5464455, 0.5464455, 0.5464455, 0.5464455, 0.5464455,\n",
       "       0.5464455, 0.5464455, 0.5464455, 0.5464455, 0.5464455])"
      ]
     },
     "execution_count": 21,
     "metadata": {},
     "output_type": "execute_result"
    }
   ],
   "source": [
    "#dummy_model_res = dummy_model.predict_proba(X_test) - kag_y_test # since they are categorical, \n",
    "# i'd have to do more transformatoins to run an f-test. \n",
    "# Namely, transform kag_y_test into the correct 1s and 0s\n",
    "dummy_model.predict_proba(X_test)[:,0] #it's just a constant for all!\n",
    "# truth is, an F-test for classifiers maybe doesn't really work"
   ]
  },
  {
   "cell_type": "markdown",
   "metadata": {},
   "source": [
    "## Can we compare two regression trees with an f test?"
   ]
  },
  {
   "cell_type": "code",
   "execution_count": null,
   "metadata": {},
   "outputs": [],
   "source": []
  }
 ],
 "metadata": {
  "kernelspec": {
   "display_name": "Python 3",
   "language": "python",
   "name": "python3"
  },
  "language_info": {
   "codemirror_mode": {
    "name": "ipython",
    "version": 3
   },
   "file_extension": ".py",
   "mimetype": "text/x-python",
   "name": "python",
   "nbconvert_exporter": "python",
   "pygments_lexer": "ipython3",
   "version": "3.11.9"
  }
 },
 "nbformat": 4,
 "nbformat_minor": 2
}
